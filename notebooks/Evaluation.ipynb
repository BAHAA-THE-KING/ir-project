{
 "cells": [
  {
   "cell_type": "markdown",
   "id": "0dc419cb",
   "metadata": {},
   "source": [
    "# Install libs"
   ]
  },
  {
   "cell_type": "markdown",
   "id": "d9bd0664",
   "metadata": {},
   "source": [
    "## General libs"
   ]
  },
  {
   "cell_type": "code",
   "execution_count": 1,
   "id": "a49049a2",
   "metadata": {},
   "outputs": [
    {
     "name": "stdout",
     "output_type": "stream",
     "text": [
      "Requirement already satisfied: ir_datasets in c:\\users\\ghost\\appdata\\roaming\\python\\python312\\site-packages (0.5.10)\n",
      "Requirement already satisfied: beautifulsoup4>=4.4.1 in c:\\python312\\lib\\site-packages (from ir_datasets) (4.13.4)\n",
      "Requirement already satisfied: inscriptis>=2.2.0 in c:\\python312\\lib\\site-packages (from ir_datasets) (2.6.0)\n",
      "Requirement already satisfied: lxml>=4.5.2 in c:\\python312\\lib\\site-packages (from ir_datasets) (5.4.0)\n",
      "Requirement already satisfied: numpy>=1.18.1 in c:\\python312\\lib\\site-packages (from ir_datasets) (2.3.0)\n",
      "Requirement already satisfied: pyyaml>=5.3.1 in c:\\python312\\lib\\site-packages (from ir_datasets) (6.0.2)\n",
      "Requirement already satisfied: requests>=2.22.0 in c:\\python312\\lib\\site-packages (from ir_datasets) (2.32.4)\n",
      "Requirement already satisfied: tqdm>=4.38.0 in c:\\python312\\lib\\site-packages (from ir_datasets) (4.67.1)\n",
      "Requirement already satisfied: trec-car-tools>=2.5.4 in c:\\python312\\lib\\site-packages (from ir_datasets) (2.6)\n",
      "Requirement already satisfied: lz4>=3.1.10 in c:\\python312\\lib\\site-packages (from ir_datasets) (4.4.4)\n",
      "Requirement already satisfied: warc3-wet>=0.2.3 in c:\\python312\\lib\\site-packages (from ir_datasets) (0.2.5)\n",
      "Requirement already satisfied: warc3-wet-clueweb09>=0.2.5 in c:\\python312\\lib\\site-packages (from ir_datasets) (0.2.5)\n",
      "Requirement already satisfied: zlib-state>=0.1.3 in c:\\python312\\lib\\site-packages (from ir_datasets) (0.1.9)\n",
      "Requirement already satisfied: ijson>=3.1.3 in c:\\python312\\lib\\site-packages (from ir_datasets) (3.4.0)\n",
      "Requirement already satisfied: unlzw3>=0.2.1 in c:\\python312\\lib\\site-packages (from ir_datasets) (0.2.3)\n",
      "Requirement already satisfied: pyarrow>=16.1.0 in c:\\python312\\lib\\site-packages (from ir_datasets) (20.0.0)\n",
      "Requirement already satisfied: soupsieve>1.2 in c:\\python312\\lib\\site-packages (from beautifulsoup4>=4.4.1->ir_datasets) (2.7)\n",
      "Requirement already satisfied: typing-extensions>=4.0.0 in c:\\python312\\lib\\site-packages (from beautifulsoup4>=4.4.1->ir_datasets) (4.14.0)\n",
      "Requirement already satisfied: charset_normalizer<4,>=2 in c:\\python312\\lib\\site-packages (from requests>=2.22.0->ir_datasets) (3.4.2)\n",
      "Requirement already satisfied: idna<4,>=2.5 in c:\\python312\\lib\\site-packages (from requests>=2.22.0->ir_datasets) (3.10)\n",
      "Requirement already satisfied: urllib3<3,>=1.21.1 in c:\\python312\\lib\\site-packages (from requests>=2.22.0->ir_datasets) (2.4.0)\n",
      "Requirement already satisfied: certifi>=2017.4.17 in c:\\python312\\lib\\site-packages (from requests>=2.22.0->ir_datasets) (2025.4.26)\n",
      "Requirement already satisfied: colorama in c:\\python312\\lib\\site-packages (from tqdm>=4.38.0->ir_datasets) (0.4.6)\n",
      "Requirement already satisfied: cbor>=1.0.0 in c:\\python312\\lib\\site-packages (from trec-car-tools>=2.5.4->ir_datasets) (1.0.0)\n"
     ]
    },
    {
     "name": "stderr",
     "output_type": "stream",
     "text": [
      "WARNING: Ignoring invalid distribution ~ip (C:\\Python312\\Lib\\site-packages)\n",
      "WARNING: Ignoring invalid distribution ~ip (C:\\Python312\\Lib\\site-packages)\n"
     ]
    },
    {
     "name": "stdout",
     "output_type": "stream",
     "text": [
      "Requirement already satisfied: joblib in c:\\python312\\lib\\site-packages (1.5.1)\n"
     ]
    },
    {
     "name": "stderr",
     "output_type": "stream",
     "text": [
      "WARNING: Ignoring invalid distribution ~ip (C:\\Python312\\Lib\\site-packages)\n",
      "WARNING: Ignoring invalid distribution ~ip (C:\\Python312\\Lib\\site-packages)\n",
      "WARNING: Ignoring invalid distribution ~ip (C:\\Python312\\Lib\\site-packages)\n"
     ]
    },
    {
     "name": "stdout",
     "output_type": "stream",
     "text": [
      "Requirement already satisfied: dill in c:\\python312\\lib\\site-packages (0.4.0)\n"
     ]
    },
    {
     "name": "stderr",
     "output_type": "stream",
     "text": [
      "WARNING: Ignoring invalid distribution ~ip (C:\\Python312\\Lib\\site-packages)\n",
      "WARNING: Ignoring invalid distribution ~ip (C:\\Python312\\Lib\\site-packages)\n",
      "WARNING: Ignoring invalid distribution ~ip (C:\\Python312\\Lib\\site-packages)\n"
     ]
    }
   ],
   "source": [
    "!pip install --user ir_datasets\n",
    "!pip install joblib\n",
    "!pip install dill"
   ]
  },
  {
   "cell_type": "markdown",
   "id": "cce8be70",
   "metadata": {},
   "source": [
    "## Text processing libs"
   ]
  },
  {
   "cell_type": "code",
   "execution_count": 2,
   "id": "e76abb65",
   "metadata": {},
   "outputs": [
    {
     "name": "stdout",
     "output_type": "stream",
     "text": [
      "Requirement already satisfied: nltk in c:\\python312\\lib\\site-packages (3.9.1)\n",
      "Requirement already satisfied: click in c:\\python312\\lib\\site-packages (from nltk) (8.2.1)\n",
      "Requirement already satisfied: joblib in c:\\python312\\lib\\site-packages (from nltk) (1.5.1)\n",
      "Requirement already satisfied: regex>=2021.8.3 in c:\\python312\\lib\\site-packages (from nltk) (2024.11.6)\n",
      "Requirement already satisfied: tqdm in c:\\python312\\lib\\site-packages (from nltk) (4.67.1)\n",
      "Requirement already satisfied: colorama in c:\\python312\\lib\\site-packages (from click->nltk) (0.4.6)\n"
     ]
    },
    {
     "name": "stderr",
     "output_type": "stream",
     "text": [
      "WARNING: Ignoring invalid distribution ~ip (C:\\Python312\\Lib\\site-packages)\n",
      "WARNING: Ignoring invalid distribution ~ip (C:\\Python312\\Lib\\site-packages)\n",
      "WARNING: Ignoring invalid distribution ~ip (C:\\Python312\\Lib\\site-packages)\n"
     ]
    },
    {
     "name": "stdout",
     "output_type": "stream",
     "text": [
      "showing info https://raw.githubusercontent.com/nltk/nltk_data/gh-pages/index.xml\n",
      "Requirement already satisfied: contractions in c:\\python312\\lib\\site-packages (0.1.73)\n",
      "Requirement already satisfied: textsearch>=0.0.21 in c:\\python312\\lib\\site-packages (from contractions) (0.0.24)\n",
      "Requirement already satisfied: anyascii in c:\\python312\\lib\\site-packages (from textsearch>=0.0.21->contractions) (0.3.2)\n",
      "Requirement already satisfied: pyahocorasick in c:\\python312\\lib\\site-packages (from textsearch>=0.0.21->contractions) (2.2.0)\n"
     ]
    },
    {
     "name": "stderr",
     "output_type": "stream",
     "text": [
      "WARNING: Ignoring invalid distribution ~ip (C:\\Python312\\Lib\\site-packages)\n",
      "WARNING: Ignoring invalid distribution ~ip (C:\\Python312\\Lib\\site-packages)\n",
      "WARNING: Ignoring invalid distribution ~ip (C:\\Python312\\Lib\\site-packages)\n"
     ]
    }
   ],
   "source": [
    "!pip install nltk\n",
    "\n",
    "import nltk\n",
    "nltk.download()\n",
    "\n",
    "!pip install contractions"
   ]
  },
  {
   "cell_type": "markdown",
   "id": "3ad6f06d",
   "metadata": {},
   "source": [
    "## TF-IDF libs"
   ]
  },
  {
   "cell_type": "code",
   "execution_count": 3,
   "id": "1ff764e7",
   "metadata": {},
   "outputs": [
    {
     "name": "stdout",
     "output_type": "stream",
     "text": [
      "Requirement already satisfied: scikit-learn in c:\\python312\\lib\\site-packages (1.7.0)\n",
      "Requirement already satisfied: numpy>=1.22.0 in c:\\python312\\lib\\site-packages (from scikit-learn) (2.3.0)\n",
      "Requirement already satisfied: scipy>=1.8.0 in c:\\python312\\lib\\site-packages (from scikit-learn) (1.15.3)\n",
      "Requirement already satisfied: joblib>=1.2.0 in c:\\python312\\lib\\site-packages (from scikit-learn) (1.5.1)\n",
      "Requirement already satisfied: threadpoolctl>=3.1.0 in c:\\python312\\lib\\site-packages (from scikit-learn) (3.6.0)\n"
     ]
    },
    {
     "name": "stderr",
     "output_type": "stream",
     "text": [
      "WARNING: Ignoring invalid distribution ~ip (C:\\Python312\\Lib\\site-packages)\n",
      "WARNING: Ignoring invalid distribution ~ip (C:\\Python312\\Lib\\site-packages)\n",
      "WARNING: Ignoring invalid distribution ~ip (C:\\Python312\\Lib\\site-packages)\n"
     ]
    },
    {
     "name": "stdout",
     "output_type": "stream",
     "text": [
      "Requirement already satisfied: numpy in c:\\python312\\lib\\site-packages (2.3.0)\n"
     ]
    },
    {
     "name": "stderr",
     "output_type": "stream",
     "text": [
      "WARNING: Ignoring invalid distribution ~ip (C:\\Python312\\Lib\\site-packages)\n",
      "WARNING: Ignoring invalid distribution ~ip (C:\\Python312\\Lib\\site-packages)\n",
      "WARNING: Ignoring invalid distribution ~ip (C:\\Python312\\Lib\\site-packages)\n"
     ]
    }
   ],
   "source": [
    "!pip install scikit-learn\n",
    "!pip install numpy"
   ]
  },
  {
   "cell_type": "markdown",
   "id": "00a708fb",
   "metadata": {},
   "source": [
    "## Embedding libs"
   ]
  },
  {
   "cell_type": "code",
   "execution_count": 4,
   "id": "89c9b590",
   "metadata": {},
   "outputs": [
    {
     "name": "stdout",
     "output_type": "stream",
     "text": [
      "Requirement already satisfied: chromadb in c:\\users\\ghost\\appdata\\roaming\\python\\python312\\site-packages (1.0.15)\n",
      "Requirement already satisfied: build>=1.0.3 in c:\\users\\ghost\\appdata\\roaming\\python\\python312\\site-packages (from chromadb) (1.2.2.post1)\n",
      "Requirement already satisfied: pydantic>=1.9 in c:\\users\\ghost\\appdata\\roaming\\python\\python312\\site-packages (from chromadb) (2.11.7)\n",
      "Requirement already satisfied: pybase64>=1.4.1 in c:\\python312\\lib\\site-packages (from chromadb) (1.4.1)\n",
      "Requirement already satisfied: uvicorn>=0.18.3 in c:\\users\\ghost\\appdata\\roaming\\python\\python312\\site-packages (from uvicorn[standard]>=0.18.3->chromadb) (0.35.0)\n",
      "Requirement already satisfied: numpy>=1.22.5 in c:\\python312\\lib\\site-packages (from chromadb) (2.3.0)\n",
      "Requirement already satisfied: posthog<6.0.0,>=2.4.0 in c:\\users\\ghost\\appdata\\roaming\\python\\python312\\site-packages (from chromadb) (5.4.0)\n",
      "Requirement already satisfied: typing-extensions>=4.5.0 in c:\\python312\\lib\\site-packages (from chromadb) (4.14.0)\n",
      "Requirement already satisfied: onnxruntime>=1.14.1 in c:\\users\\ghost\\appdata\\roaming\\python\\python312\\site-packages (from chromadb) (1.22.0)\n",
      "Requirement already satisfied: opentelemetry-api>=1.2.0 in c:\\users\\ghost\\appdata\\roaming\\python\\python312\\site-packages (from chromadb) (1.34.1)\n",
      "Requirement already satisfied: opentelemetry-exporter-otlp-proto-grpc>=1.2.0 in c:\\users\\ghost\\appdata\\roaming\\python\\python312\\site-packages (from chromadb) (1.34.1)\n",
      "Requirement already satisfied: opentelemetry-sdk>=1.2.0 in c:\\users\\ghost\\appdata\\roaming\\python\\python312\\site-packages (from chromadb) (1.34.1)\n",
      "Requirement already satisfied: tokenizers>=0.13.2 in c:\\users\\ghost\\appdata\\roaming\\python\\python312\\site-packages (from chromadb) (0.21.2)\n",
      "Requirement already satisfied: pypika>=0.48.9 in c:\\python312\\lib\\site-packages (from chromadb) (0.48.9)\n",
      "Requirement already satisfied: tqdm>=4.65.0 in c:\\python312\\lib\\site-packages (from chromadb) (4.67.1)\n",
      "Requirement already satisfied: overrides>=7.3.1 in c:\\python312\\lib\\site-packages (from chromadb) (7.7.0)\n",
      "Requirement already satisfied: importlib-resources in c:\\python312\\lib\\site-packages (from chromadb) (6.5.2)\n",
      "Requirement already satisfied: grpcio>=1.58.0 in c:\\users\\ghost\\appdata\\roaming\\python\\python312\\site-packages (from chromadb) (1.73.1)\n",
      "Requirement already satisfied: bcrypt>=4.0.1 in c:\\users\\ghost\\appdata\\roaming\\python\\python312\\site-packages (from chromadb) (4.3.0)\n",
      "Requirement already satisfied: typer>=0.9.0 in c:\\users\\ghost\\appdata\\roaming\\python\\python312\\site-packages (from chromadb) (0.16.0)\n",
      "Requirement already satisfied: kubernetes>=28.1.0 in c:\\users\\ghost\\appdata\\roaming\\python\\python312\\site-packages (from chromadb) (33.1.0)\n",
      "Requirement already satisfied: tenacity>=8.2.3 in c:\\python312\\lib\\site-packages (from chromadb) (9.1.2)\n",
      "Requirement already satisfied: pyyaml>=6.0.0 in c:\\python312\\lib\\site-packages (from chromadb) (6.0.2)\n",
      "Requirement already satisfied: mmh3>=4.0.1 in c:\\python312\\lib\\site-packages (from chromadb) (5.1.0)\n",
      "Requirement already satisfied: orjson>=3.9.12 in c:\\python312\\lib\\site-packages (from chromadb) (3.10.18)\n",
      "Requirement already satisfied: httpx>=0.27.0 in c:\\python312\\lib\\site-packages (from chromadb) (0.28.1)\n",
      "Requirement already satisfied: rich>=10.11.0 in c:\\users\\ghost\\appdata\\roaming\\python\\python312\\site-packages (from chromadb) (14.0.0)\n",
      "Requirement already satisfied: jsonschema>=4.19.0 in c:\\users\\ghost\\appdata\\roaming\\python\\python312\\site-packages (from chromadb) (4.24.0)\n",
      "Requirement already satisfied: requests<3.0,>=2.7 in c:\\python312\\lib\\site-packages (from posthog<6.0.0,>=2.4.0->chromadb) (2.32.4)\n",
      "Requirement already satisfied: six>=1.5 in c:\\users\\ghost\\appdata\\roaming\\python\\python312\\site-packages (from posthog<6.0.0,>=2.4.0->chromadb) (1.17.0)\n",
      "Requirement already satisfied: python-dateutil>=2.2 in c:\\users\\ghost\\appdata\\roaming\\python\\python312\\site-packages (from posthog<6.0.0,>=2.4.0->chromadb) (2.9.0.post0)\n",
      "Requirement already satisfied: backoff>=1.10.0 in c:\\users\\ghost\\appdata\\roaming\\python\\python312\\site-packages (from posthog<6.0.0,>=2.4.0->chromadb) (2.2.1)\n",
      "Requirement already satisfied: distro>=1.5.0 in c:\\users\\ghost\\appdata\\roaming\\python\\python312\\site-packages (from posthog<6.0.0,>=2.4.0->chromadb) (1.9.0)\n",
      "Requirement already satisfied: charset_normalizer<4,>=2 in c:\\python312\\lib\\site-packages (from requests<3.0,>=2.7->posthog<6.0.0,>=2.4.0->chromadb) (3.4.2)\n",
      "Requirement already satisfied: idna<4,>=2.5 in c:\\python312\\lib\\site-packages (from requests<3.0,>=2.7->posthog<6.0.0,>=2.4.0->chromadb) (3.10)\n",
      "Requirement already satisfied: urllib3<3,>=1.21.1 in c:\\python312\\lib\\site-packages (from requests<3.0,>=2.7->posthog<6.0.0,>=2.4.0->chromadb) (2.4.0)\n",
      "Requirement already satisfied: certifi>=2017.4.17 in c:\\python312\\lib\\site-packages (from requests<3.0,>=2.7->posthog<6.0.0,>=2.4.0->chromadb) (2025.4.26)\n",
      "Requirement already satisfied: packaging>=19.1 in c:\\users\\ghost\\appdata\\roaming\\python\\python312\\site-packages (from build>=1.0.3->chromadb) (25.0)\n",
      "Requirement already satisfied: pyproject_hooks in c:\\python312\\lib\\site-packages (from build>=1.0.3->chromadb) (1.2.0)\n",
      "Requirement already satisfied: colorama in c:\\python312\\lib\\site-packages (from build>=1.0.3->chromadb) (0.4.6)\n",
      "Requirement already satisfied: anyio in c:\\python312\\lib\\site-packages (from httpx>=0.27.0->chromadb) (4.9.0)\n",
      "Requirement already satisfied: httpcore==1.* in c:\\python312\\lib\\site-packages (from httpx>=0.27.0->chromadb) (1.0.9)\n",
      "Requirement already satisfied: h11>=0.16 in c:\\python312\\lib\\site-packages (from httpcore==1.*->httpx>=0.27.0->chromadb) (0.16.0)\n",
      "Requirement already satisfied: attrs>=22.2.0 in c:\\users\\ghost\\appdata\\roaming\\python\\python312\\site-packages (from jsonschema>=4.19.0->chromadb) (25.3.0)\n",
      "Requirement already satisfied: jsonschema-specifications>=2023.03.6 in c:\\users\\ghost\\appdata\\roaming\\python\\python312\\site-packages (from jsonschema>=4.19.0->chromadb) (2025.4.1)\n",
      "Requirement already satisfied: referencing>=0.28.4 in c:\\users\\ghost\\appdata\\roaming\\python\\python312\\site-packages (from jsonschema>=4.19.0->chromadb) (0.36.2)\n",
      "Requirement already satisfied: rpds-py>=0.7.1 in c:\\python312\\lib\\site-packages (from jsonschema>=4.19.0->chromadb) (0.26.0)\n",
      "Requirement already satisfied: google-auth>=1.0.1 in c:\\users\\ghost\\appdata\\roaming\\python\\python312\\site-packages (from kubernetes>=28.1.0->chromadb) (2.40.3)\n",
      "Requirement already satisfied: websocket-client!=0.40.0,!=0.41.*,!=0.42.*,>=0.32.0 in c:\\python312\\lib\\site-packages (from kubernetes>=28.1.0->chromadb) (1.8.0)\n",
      "Requirement already satisfied: requests-oauthlib in c:\\users\\ghost\\appdata\\roaming\\python\\python312\\site-packages (from kubernetes>=28.1.0->chromadb) (2.0.0)\n",
      "Requirement already satisfied: oauthlib>=3.2.2 in c:\\python312\\lib\\site-packages (from kubernetes>=28.1.0->chromadb) (3.3.1)\n",
      "Requirement already satisfied: durationpy>=0.7 in c:\\python312\\lib\\site-packages (from kubernetes>=28.1.0->chromadb) (0.10)\n",
      "Requirement already satisfied: cachetools<6.0,>=2.0.0 in c:\\users\\ghost\\appdata\\roaming\\python\\python312\\site-packages (from google-auth>=1.0.1->kubernetes>=28.1.0->chromadb) (5.5.2)\n",
      "Requirement already satisfied: pyasn1-modules>=0.2.1 in c:\\users\\ghost\\appdata\\roaming\\python\\python312\\site-packages (from google-auth>=1.0.1->kubernetes>=28.1.0->chromadb) (0.4.2)\n",
      "Requirement already satisfied: rsa<5,>=3.1.4 in c:\\users\\ghost\\appdata\\roaming\\python\\python312\\site-packages (from google-auth>=1.0.1->kubernetes>=28.1.0->chromadb) (4.9.1)\n",
      "Requirement already satisfied: pyasn1>=0.1.3 in c:\\python312\\lib\\site-packages (from rsa<5,>=3.1.4->google-auth>=1.0.1->kubernetes>=28.1.0->chromadb) (0.6.1)\n",
      "Requirement already satisfied: coloredlogs in c:\\users\\ghost\\appdata\\roaming\\python\\python312\\site-packages (from onnxruntime>=1.14.1->chromadb) (15.0.1)\n",
      "Requirement already satisfied: flatbuffers in c:\\python312\\lib\\site-packages (from onnxruntime>=1.14.1->chromadb) (25.2.10)\n",
      "Requirement already satisfied: protobuf in c:\\python312\\lib\\site-packages (from onnxruntime>=1.14.1->chromadb) (5.29.5)\n",
      "Requirement already satisfied: sympy in c:\\python312\\lib\\site-packages (from onnxruntime>=1.14.1->chromadb) (1.14.0)\n",
      "Requirement already satisfied: importlib-metadata<8.8.0,>=6.0 in c:\\python312\\lib\\site-packages (from opentelemetry-api>=1.2.0->chromadb) (8.7.0)\n",
      "Requirement already satisfied: zipp>=3.20 in c:\\python312\\lib\\site-packages (from importlib-metadata<8.8.0,>=6.0->opentelemetry-api>=1.2.0->chromadb) (3.23.0)\n",
      "Requirement already satisfied: googleapis-common-protos~=1.52 in c:\\users\\ghost\\appdata\\roaming\\python\\python312\\site-packages (from opentelemetry-exporter-otlp-proto-grpc>=1.2.0->chromadb) (1.70.0)\n",
      "Requirement already satisfied: opentelemetry-exporter-otlp-proto-common==1.34.1 in c:\\users\\ghost\\appdata\\roaming\\python\\python312\\site-packages (from opentelemetry-exporter-otlp-proto-grpc>=1.2.0->chromadb) (1.34.1)\n",
      "Requirement already satisfied: opentelemetry-proto==1.34.1 in c:\\users\\ghost\\appdata\\roaming\\python\\python312\\site-packages (from opentelemetry-exporter-otlp-proto-grpc>=1.2.0->chromadb) (1.34.1)\n",
      "Requirement already satisfied: opentelemetry-semantic-conventions==0.55b1 in c:\\users\\ghost\\appdata\\roaming\\python\\python312\\site-packages (from opentelemetry-sdk>=1.2.0->chromadb) (0.55b1)\n",
      "Requirement already satisfied: annotated-types>=0.6.0 in c:\\users\\ghost\\appdata\\roaming\\python\\python312\\site-packages (from pydantic>=1.9->chromadb) (0.7.0)\n",
      "Requirement already satisfied: pydantic-core==2.33.2 in c:\\python312\\lib\\site-packages (from pydantic>=1.9->chromadb) (2.33.2)\n",
      "Requirement already satisfied: typing-inspection>=0.4.0 in c:\\python312\\lib\\site-packages (from pydantic>=1.9->chromadb) (0.4.1)\n",
      "Requirement already satisfied: markdown-it-py>=2.2.0 in c:\\users\\ghost\\appdata\\roaming\\python\\python312\\site-packages (from rich>=10.11.0->chromadb) (3.0.0)\n",
      "Requirement already satisfied: pygments<3.0.0,>=2.13.0 in c:\\users\\ghost\\appdata\\roaming\\python\\python312\\site-packages (from rich>=10.11.0->chromadb) (2.19.1)\n",
      "Requirement already satisfied: mdurl~=0.1 in c:\\python312\\lib\\site-packages (from markdown-it-py>=2.2.0->rich>=10.11.0->chromadb) (0.1.2)\n",
      "Requirement already satisfied: huggingface-hub<1.0,>=0.16.4 in c:\\users\\ghost\\appdata\\roaming\\python\\python312\\site-packages (from tokenizers>=0.13.2->chromadb) (0.33.1)\n",
      "Requirement already satisfied: filelock in c:\\users\\ghost\\appdata\\roaming\\python\\python312\\site-packages (from huggingface-hub<1.0,>=0.16.4->tokenizers>=0.13.2->chromadb) (3.18.0)\n",
      "Requirement already satisfied: fsspec>=2023.5.0 in c:\\users\\ghost\\appdata\\roaming\\python\\python312\\site-packages (from huggingface-hub<1.0,>=0.16.4->tokenizers>=0.13.2->chromadb) (2025.5.1)\n",
      "Requirement already satisfied: click>=8.0.0 in c:\\python312\\lib\\site-packages (from typer>=0.9.0->chromadb) (8.2.1)\n",
      "Requirement already satisfied: shellingham>=1.3.0 in c:\\python312\\lib\\site-packages (from typer>=0.9.0->chromadb) (1.5.4)\n",
      "Requirement already satisfied: httptools>=0.6.3 in c:\\users\\ghost\\appdata\\roaming\\python\\python312\\site-packages (from uvicorn[standard]>=0.18.3->chromadb) (0.6.4)\n",
      "Requirement already satisfied: python-dotenv>=0.13 in c:\\python312\\lib\\site-packages (from uvicorn[standard]>=0.18.3->chromadb) (1.1.0)\n",
      "Requirement already satisfied: watchfiles>=0.13 in c:\\users\\ghost\\appdata\\roaming\\python\\python312\\site-packages (from uvicorn[standard]>=0.18.3->chromadb) (1.1.0)\n",
      "Requirement already satisfied: websockets>=10.4 in c:\\python312\\lib\\site-packages (from uvicorn[standard]>=0.18.3->chromadb) (15.0.1)\n",
      "Requirement already satisfied: sniffio>=1.1 in c:\\python312\\lib\\site-packages (from anyio->httpx>=0.27.0->chromadb) (1.3.1)\n",
      "Requirement already satisfied: humanfriendly>=9.1 in c:\\python312\\lib\\site-packages (from coloredlogs->onnxruntime>=1.14.1->chromadb) (10.0)\n",
      "Requirement already satisfied: pyreadline3 in c:\\python312\\lib\\site-packages (from humanfriendly>=9.1->coloredlogs->onnxruntime>=1.14.1->chromadb) (3.5.4)\n",
      "Requirement already satisfied: mpmath<1.4,>=1.1.0 in c:\\python312\\lib\\site-packages (from sympy->onnxruntime>=1.14.1->chromadb) (1.3.0)\n"
     ]
    },
    {
     "name": "stderr",
     "output_type": "stream",
     "text": [
      "WARNING: Ignoring invalid distribution ~ip (C:\\Python312\\Lib\\site-packages)\n",
      "WARNING: Ignoring invalid distribution ~ip (C:\\Python312\\Lib\\site-packages)\n",
      "WARNING: Ignoring invalid distribution ~ip (C:\\Python312\\Lib\\site-packages)\n"
     ]
    },
    {
     "name": "stdout",
     "output_type": "stream",
     "text": [
      "Requirement already satisfied: sentence_transformers in c:\\users\\ghost\\appdata\\roaming\\python\\python312\\site-packages (4.1.0)\n",
      "Requirement already satisfied: transformers<5.0.0,>=4.41.0 in c:\\users\\ghost\\appdata\\roaming\\python\\python312\\site-packages (from sentence_transformers) (4.53.0)\n",
      "Requirement already satisfied: tqdm in c:\\python312\\lib\\site-packages (from sentence_transformers) (4.67.1)\n",
      "Requirement already satisfied: torch>=1.11.0 in c:\\users\\ghost\\appdata\\roaming\\python\\python312\\site-packages (from sentence_transformers) (2.7.1)\n",
      "Requirement already satisfied: scikit-learn in c:\\python312\\lib\\site-packages (from sentence_transformers) (1.7.0)\n",
      "Requirement already satisfied: scipy in c:\\python312\\lib\\site-packages (from sentence_transformers) (1.15.3)\n",
      "Requirement already satisfied: huggingface-hub>=0.20.0 in c:\\users\\ghost\\appdata\\roaming\\python\\python312\\site-packages (from sentence_transformers) (0.33.1)\n",
      "Requirement already satisfied: Pillow in c:\\users\\ghost\\appdata\\roaming\\python\\python312\\site-packages (from sentence_transformers) (11.2.1)\n",
      "Requirement already satisfied: typing_extensions>=4.5.0 in c:\\python312\\lib\\site-packages (from sentence_transformers) (4.14.0)\n",
      "Requirement already satisfied: filelock in c:\\users\\ghost\\appdata\\roaming\\python\\python312\\site-packages (from transformers<5.0.0,>=4.41.0->sentence_transformers) (3.18.0)\n",
      "Requirement already satisfied: numpy>=1.17 in c:\\python312\\lib\\site-packages (from transformers<5.0.0,>=4.41.0->sentence_transformers) (2.3.0)\n",
      "Requirement already satisfied: packaging>=20.0 in c:\\users\\ghost\\appdata\\roaming\\python\\python312\\site-packages (from transformers<5.0.0,>=4.41.0->sentence_transformers) (25.0)\n",
      "Requirement already satisfied: pyyaml>=5.1 in c:\\python312\\lib\\site-packages (from transformers<5.0.0,>=4.41.0->sentence_transformers) (6.0.2)\n",
      "Requirement already satisfied: regex!=2019.12.17 in c:\\python312\\lib\\site-packages (from transformers<5.0.0,>=4.41.0->sentence_transformers) (2024.11.6)\n",
      "Requirement already satisfied: requests in c:\\python312\\lib\\site-packages (from transformers<5.0.0,>=4.41.0->sentence_transformers) (2.32.4)\n",
      "Requirement already satisfied: tokenizers<0.22,>=0.21 in c:\\users\\ghost\\appdata\\roaming\\python\\python312\\site-packages (from transformers<5.0.0,>=4.41.0->sentence_transformers) (0.21.2)\n",
      "Requirement already satisfied: safetensors>=0.4.3 in c:\\users\\ghost\\appdata\\roaming\\python\\python312\\site-packages (from transformers<5.0.0,>=4.41.0->sentence_transformers) (0.5.3)\n",
      "Requirement already satisfied: fsspec>=2023.5.0 in c:\\users\\ghost\\appdata\\roaming\\python\\python312\\site-packages (from huggingface-hub>=0.20.0->sentence_transformers) (2025.5.1)\n",
      "Requirement already satisfied: sympy>=1.13.3 in c:\\python312\\lib\\site-packages (from torch>=1.11.0->sentence_transformers) (1.14.0)\n",
      "Requirement already satisfied: networkx in c:\\users\\ghost\\appdata\\roaming\\python\\python312\\site-packages (from torch>=1.11.0->sentence_transformers) (3.5)\n",
      "Requirement already satisfied: jinja2 in c:\\users\\ghost\\appdata\\roaming\\python\\python312\\site-packages (from torch>=1.11.0->sentence_transformers) (3.1.6)\n",
      "Requirement already satisfied: setuptools in c:\\users\\ghost\\appdata\\roaming\\python\\python312\\site-packages (from torch>=1.11.0->sentence_transformers) (80.9.0)\n",
      "Requirement already satisfied: mpmath<1.4,>=1.1.0 in c:\\python312\\lib\\site-packages (from sympy>=1.13.3->torch>=1.11.0->sentence_transformers) (1.3.0)\n",
      "Requirement already satisfied: colorama in c:\\python312\\lib\\site-packages (from tqdm->sentence_transformers) (0.4.6)\n",
      "Requirement already satisfied: MarkupSafe>=2.0 in c:\\users\\ghost\\appdata\\roaming\\python\\python312\\site-packages (from jinja2->torch>=1.11.0->sentence_transformers) (3.0.2)\n",
      "Requirement already satisfied: charset_normalizer<4,>=2 in c:\\python312\\lib\\site-packages (from requests->transformers<5.0.0,>=4.41.0->sentence_transformers) (3.4.2)\n",
      "Requirement already satisfied: idna<4,>=2.5 in c:\\python312\\lib\\site-packages (from requests->transformers<5.0.0,>=4.41.0->sentence_transformers) (3.10)\n",
      "Requirement already satisfied: urllib3<3,>=1.21.1 in c:\\python312\\lib\\site-packages (from requests->transformers<5.0.0,>=4.41.0->sentence_transformers) (2.4.0)\n",
      "Requirement already satisfied: certifi>=2017.4.17 in c:\\python312\\lib\\site-packages (from requests->transformers<5.0.0,>=4.41.0->sentence_transformers) (2025.4.26)\n",
      "Requirement already satisfied: joblib>=1.2.0 in c:\\python312\\lib\\site-packages (from scikit-learn->sentence_transformers) (1.5.1)\n",
      "Requirement already satisfied: threadpoolctl>=3.1.0 in c:\\python312\\lib\\site-packages (from scikit-learn->sentence_transformers) (3.6.0)\n"
     ]
    },
    {
     "name": "stderr",
     "output_type": "stream",
     "text": [
      "WARNING: Ignoring invalid distribution ~ip (C:\\Python312\\Lib\\site-packages)\n",
      "WARNING: Ignoring invalid distribution ~ip (C:\\Python312\\Lib\\site-packages)\n",
      "WARNING: Ignoring invalid distribution ~ip (C:\\Python312\\Lib\\site-packages)\n"
     ]
    },
    {
     "name": "stdout",
     "output_type": "stream",
     "text": [
      "Requirement already satisfied: torch in c:\\users\\ghost\\appdata\\roaming\\python\\python312\\site-packages (2.7.1)\n",
      "Requirement already satisfied: filelock in c:\\users\\ghost\\appdata\\roaming\\python\\python312\\site-packages (from torch) (3.18.0)\n",
      "Requirement already satisfied: typing-extensions>=4.10.0 in c:\\python312\\lib\\site-packages (from torch) (4.14.0)\n",
      "Requirement already satisfied: sympy>=1.13.3 in c:\\python312\\lib\\site-packages (from torch) (1.14.0)\n",
      "Requirement already satisfied: networkx in c:\\users\\ghost\\appdata\\roaming\\python\\python312\\site-packages (from torch) (3.5)\n",
      "Requirement already satisfied: jinja2 in c:\\users\\ghost\\appdata\\roaming\\python\\python312\\site-packages (from torch) (3.1.6)\n",
      "Requirement already satisfied: fsspec in c:\\users\\ghost\\appdata\\roaming\\python\\python312\\site-packages (from torch) (2025.5.1)\n",
      "Requirement already satisfied: setuptools in c:\\users\\ghost\\appdata\\roaming\\python\\python312\\site-packages (from torch) (80.9.0)\n",
      "Requirement already satisfied: mpmath<1.4,>=1.1.0 in c:\\python312\\lib\\site-packages (from sympy>=1.13.3->torch) (1.3.0)\n",
      "Requirement already satisfied: MarkupSafe>=2.0 in c:\\users\\ghost\\appdata\\roaming\\python\\python312\\site-packages (from jinja2->torch) (3.0.2)\n"
     ]
    },
    {
     "name": "stderr",
     "output_type": "stream",
     "text": [
      "WARNING: Ignoring invalid distribution ~ip (C:\\Python312\\Lib\\site-packages)\n",
      "WARNING: Ignoring invalid distribution ~ip (C:\\Python312\\Lib\\site-packages)\n",
      "WARNING: Ignoring invalid distribution ~ip (C:\\Python312\\Lib\\site-packages)\n"
     ]
    }
   ],
   "source": [
    "!pip install chromadb\n",
    "!pip install sentence_transformers\n",
    "!pip install torch"
   ]
  },
  {
   "cell_type": "markdown",
   "id": "bb8aa5ad",
   "metadata": {},
   "source": [
    "## BM25 libs"
   ]
  },
  {
   "cell_type": "code",
   "execution_count": 5,
   "id": "a8aac8e2",
   "metadata": {},
   "outputs": [
    {
     "name": "stdout",
     "output_type": "stream",
     "text": [
      "Requirement already satisfied: rank_bm25 in c:\\python312\\lib\\site-packages (0.2.2)\n",
      "Requirement already satisfied: numpy in c:\\python312\\lib\\site-packages (from rank_bm25) (2.3.0)\n"
     ]
    },
    {
     "name": "stderr",
     "output_type": "stream",
     "text": [
      "WARNING: Ignoring invalid distribution ~ip (C:\\Python312\\Lib\\site-packages)\n",
      "WARNING: Ignoring invalid distribution ~ip (C:\\Python312\\Lib\\site-packages)\n",
      "WARNING: Ignoring invalid distribution ~ip (C:\\Python312\\Lib\\site-packages)\n"
     ]
    }
   ],
   "source": [
    "!pip install rank_bm25"
   ]
  },
  {
   "cell_type": "markdown",
   "id": "87c3ad34",
   "metadata": {},
   "source": [
    "## Plotting libs"
   ]
  },
  {
   "cell_type": "code",
   "execution_count": 6,
   "id": "ba84f40c",
   "metadata": {},
   "outputs": [
    {
     "name": "stdout",
     "output_type": "stream",
     "text": [
      "Requirement already satisfied: matplotlib in c:\\users\\ghost\\appdata\\roaming\\python\\python312\\site-packages (3.10.3)\n",
      "Requirement already satisfied: contourpy>=1.0.1 in c:\\users\\ghost\\appdata\\roaming\\python\\python312\\site-packages (from matplotlib) (1.3.2)\n",
      "Requirement already satisfied: cycler>=0.10 in c:\\users\\ghost\\appdata\\roaming\\python\\python312\\site-packages (from matplotlib) (0.12.1)\n",
      "Requirement already satisfied: fonttools>=4.22.0 in c:\\python312\\lib\\site-packages (from matplotlib) (4.58.5)\n",
      "Requirement already satisfied: kiwisolver>=1.3.1 in c:\\python312\\lib\\site-packages (from matplotlib) (1.4.8)\n",
      "Requirement already satisfied: numpy>=1.23 in c:\\python312\\lib\\site-packages (from matplotlib) (2.3.0)\n",
      "Requirement already satisfied: packaging>=20.0 in c:\\users\\ghost\\appdata\\roaming\\python\\python312\\site-packages (from matplotlib) (25.0)\n",
      "Requirement already satisfied: pillow>=8 in c:\\users\\ghost\\appdata\\roaming\\python\\python312\\site-packages (from matplotlib) (11.2.1)\n",
      "Requirement already satisfied: pyparsing>=2.3.1 in c:\\python312\\lib\\site-packages (from matplotlib) (3.2.3)\n",
      "Requirement already satisfied: python-dateutil>=2.7 in c:\\users\\ghost\\appdata\\roaming\\python\\python312\\site-packages (from matplotlib) (2.9.0.post0)\n",
      "Requirement already satisfied: six>=1.5 in c:\\users\\ghost\\appdata\\roaming\\python\\python312\\site-packages (from python-dateutil>=2.7->matplotlib) (1.17.0)\n"
     ]
    },
    {
     "name": "stderr",
     "output_type": "stream",
     "text": [
      "WARNING: Ignoring invalid distribution ~ip (C:\\Python312\\Lib\\site-packages)\n",
      "WARNING: Ignoring invalid distribution ~ip (C:\\Python312\\Lib\\site-packages)\n"
     ]
    }
   ],
   "source": [
    "!pip install --user matplotlib"
   ]
  },
  {
   "cell_type": "markdown",
   "id": "39b8b3cc",
   "metadata": {},
   "source": [
    "# Evaluation"
   ]
  },
  {
   "cell_type": "markdown",
   "id": "510299e0",
   "metadata": {},
   "source": [
    "## Loader"
   ]
  },
  {
   "cell_type": "code",
   "execution_count": 7,
   "id": "93c06689",
   "metadata": {},
   "outputs": [],
   "source": [
    "# Dataset configurations\n",
    "DATASETS = {\n",
    "    \"antique\": {\n",
    "        \"name\": \"antique\",\n",
    "        \"description\": \"Question-answer dataset with natural questions from real users\",\n",
    "        \"ir_datasets_id\": \"antique\",\n",
    "        \"ir_datasets_test_id\": \"antique/test/non-offensive\"\n",
    "    },\n",
    "    \"quora\": {\n",
    "        \"name\": \"beir/quora\",\n",
    "        \"description\": \"Quora question pairs dataset from the BEIR benchmark\",\n",
    "        \"ir_datasets_id\": \"beir/quora\",\n",
    "        \"ir_datasets_test_id\": \"beir/quora/dev\"\n",
    "    },\n",
    "    \"webis\": {\n",
    "        \"name\": \"beir/webis-touche2020/v2\",\n",
    "        \"description\": \"Webis Touché 2020 (v2) dataset from the BEIR benchmark\",\n",
    "        \"ir_datasets_id\": \"beir/webis-touche2020/v2\",\n",
    "        \"ir_datasets_test_id\": \"beir/webis-touche2020/v2\"\n",
    "    },\n",
    "    \"recreation\": {\n",
    "        \"name\": \"lotte/recreation/dev\",\n",
    "        \"description\": \"LOTTE Recreation domain, development split\",\n",
    "        \"ir_datasets_id\": \"lotte/recreation/dev/forum\",\n",
    "        \"ir_datasets_test_id\": \"lotte/recreation/test/forum\"\n",
    "    },\n",
    "    \"wikir\": {\n",
    "        \"name\": \"wikir/en1k\",\n",
    "        \"description\": \"Wiki-Retrieval English 1K dataset\",\n",
    "        \"ir_datasets_id\": \"wikir/en1k\",\n",
    "        \"ir_datasets_test_id\": \"wikir/en1k/test\"\n",
    "    },\n",
    "    \"clinical\": {\n",
    "        \"name\": \"clinicaltrials/2021/trec-ct-2021\",\n",
    "        \"description\": \"ClinicalTrials TREC-CT 2021 dataset\",\n",
    "        \"ir_datasets_id\": \"clinicaltrials/2021/trec-ct-2021\",\n",
    "        \"ir_datasets_test_id\": \"clinicaltrials/2021/trec-ct-2021/test\"\n",
    "    }\n",
    "}\n",
    "\n",
    "# Default dataset to use if none specified\n",
    "DEFAULT_DATASET = \"antique\""
   ]
  },
  {
   "cell_type": "code",
   "execution_count": 8,
   "id": "449769b8",
   "metadata": {},
   "outputs": [],
   "source": [
    "import ir_datasets\n",
    "\n",
    "from typing import TypeAlias\n",
    "\n",
    "from collections import namedtuple\n",
    "\n",
    "Doc = namedtuple('Doc', ['doc_id', 'text'])\n",
    "Query = namedtuple('Query', ['query_id', 'text'])\n",
    "Qrel = namedtuple('Qrel', ['query_id', 'doc_id', 'relevance', 'iteration'])\n",
    "\n",
    "def load_dataset(name: str) -> list[Doc]:\n",
    "    dataset = ir_datasets.load(DATASETS[name]['ir_datasets_id'])\n",
    "    \n",
    "    docs = list(dataset.docs_iter())\n",
    "    return docs\n",
    "\n",
    "def load_queries_and_qrels(name: str) -> tuple[list[Query], list[Qrel]]:\n",
    "    dataset_test = ir_datasets.load(DATASETS[name]['ir_datasets_test_id'])\n",
    "    \n",
    "    queries = list(dataset_test.queries_iter())\n",
    "    qrels = list(dataset_test.qrels_iter())\n",
    "    return queries, qrels\n",
    "\n",
    "def load_dataset_with_queries(name: str) -> tuple[list[Doc], list[Query], list[Qrel]]:\n",
    "    dataset = ir_datasets.load(DATASETS[name]['ir_datasets_id'])\n",
    "    dataset_test = ir_datasets.load(DATASETS[name]['ir_datasets_test_id'])\n",
    "    \n",
    "    docs = list(dataset.docs_iter())\n",
    "    queries = list(dataset_test.queries_iter())\n",
    "    qrels = list(dataset_test.qrels_iter())\n",
    "    \n",
    "    return docs, queries, qrels"
   ]
  },
  {
   "cell_type": "markdown",
   "id": "312de48b",
   "metadata": {},
   "source": [
    "## Text Processing"
   ]
  },
  {
   "cell_type": "code",
   "execution_count": 9,
   "id": "0a9b037a",
   "metadata": {},
   "outputs": [],
   "source": [
    "import re\n",
    "from nltk import pos_tag\n",
    "from nltk.stem import WordNetLemmatizer\n",
    "from nltk.corpus import stopwords, wordnet\n",
    "from nltk.tokenize import word_tokenize\n",
    "import contractions\n",
    "\n",
    "class TextPreprocessor:\n",
    "    __lemmatizer__ = WordNetLemmatizer()\n",
    "    __stop_words__ = set(stopwords.words('english'))\n",
    "    __instance__ = None\n",
    "\n",
    "    @staticmethod\n",
    "    def getInstance():\n",
    "        if TextPreprocessor.__instance__ == None:\n",
    "            TextPreprocessor.__instance__ = TextPreprocessor()\n",
    "        return TextPreprocessor.__instance__\n",
    "\n",
    "    def __clean_text__(self, text):\n",
    "        \"\"\"\n",
    "        Clean text by removing special characters and converting to lowercase\n",
    "        \"\"\"\n",
    "        # Convert to lowercase\n",
    "        text = contractions.fix(text)\n",
    "\n",
    "        # Convert to lowercase\n",
    "        text = text.lower()\n",
    "        \n",
    "        # Remove special characters and numbers\n",
    "        text = re.sub(r'[^a-zA-Z\\s]', '', text)\n",
    "        \n",
    "        return text\n",
    "\n",
    "    def __remove_stopwords__(self, text):\n",
    "        \"\"\"\n",
    "        Remove common stopwords from text\n",
    "        \"\"\"\n",
    "        words = word_tokenize(text)\n",
    "        filtered_words = [word for word in words if word not in self.__stop_words__]\n",
    "        return ' '.join(filtered_words)\n",
    "\n",
    "    def __get_wordnet_pos__(self, tag_parameter):\n",
    "        tag = tag_parameter[0].upper()\n",
    "        tag_dict = {\n",
    "            \"J\": wordnet.ADJ,\n",
    "            \"N\": wordnet.NOUN,\n",
    "            \"V\": wordnet.VERB,\n",
    "            \"R\": wordnet.ADV\n",
    "            }\n",
    "        return tag_dict.get(tag, wordnet.NOUN)\n",
    "\n",
    "    def __lemmatize_text__(self, text):\n",
    "        \"\"\"\n",
    "        Lemmatize words to their root form\n",
    "        \"\"\"\n",
    "        # Tokenize into words\n",
    "        words = word_tokenize(text)\n",
    "\n",
    "        # POS tagging\n",
    "        pos_tags = pos_tag(words)\n",
    "\n",
    "        lemmatized_words = [self.__lemmatizer__.lemmatize(word, pos=self.__get_wordnet_pos__(tag)) for word, tag in pos_tags]\n",
    "\n",
    "        return ' '.join(lemmatized_words)\n",
    "\n",
    "    def preprocess_text(self, text):\n",
    "        \"\"\"\n",
    "        Apply full preprocessing pipeline\n",
    "        \"\"\"\n",
    "        if not isinstance(text, str):\n",
    "            return \"\"\n",
    "        \n",
    "        # Apply all preprocessing steps\n",
    "        text = self.__clean_text__(text)\n",
    "        text = self.__lemmatize_text__(text)\n",
    "        text = self.__remove_stopwords__(text)\n",
    "\n",
    "        return word_tokenize(text.strip())\n"
   ]
  },
  {
   "cell_type": "markdown",
   "id": "f21122f2",
   "metadata": {},
   "source": [
    "## Inverted Index"
   ]
  },
  {
   "cell_type": "code",
   "execution_count": 10,
   "id": "c4a0a5f8",
   "metadata": {},
   "outputs": [],
   "source": [
    "from collections import defaultdict\n",
    "\n",
    "class InvertedIndex:\n",
    "    def __init__(self):\n",
    "        self.index = defaultdict(set)        # term -> {doc_id}\n",
    "        self.doc_lengths = defaultdict(int)  # doc_id -> total terms\n",
    "        self.N = 0                           # total documents\n",
    "\n",
    "    def add_document(self, doc_id, tokens):\n",
    "        self.N += 1\n",
    "        self.doc_lengths[doc_id] = len(tokens)\n",
    "        for token in tokens:\n",
    "            self.index[token].add(doc_id)\n",
    "\n",
    "    def get_documents_sharing_terms_with_query(self, query_tokens):\n",
    "        \"\"\"\n",
    "        Returns a set of doc_ids that share at least one word with the query.\n",
    "        \"\"\"\n",
    "        related_docs = set()\n",
    "\n",
    "        for token in query_tokens:\n",
    "            related_docs.update(self.index.get(token, set()))\n",
    "\n",
    "        return list(related_docs)\n"
   ]
  },
  {
   "cell_type": "markdown",
   "id": "ad55eba8",
   "metadata": {},
   "source": [
    "## Models"
   ]
  },
  {
   "cell_type": "markdown",
   "id": "f469eff1",
   "metadata": {},
   "source": [
    "### Retriever"
   ]
  },
  {
   "cell_type": "code",
   "execution_count": 11,
   "id": "68915fca",
   "metadata": {},
   "outputs": [],
   "source": [
    "import math\n",
    "\n",
    "def calc_dcg(relevance, rank):\n",
    "    return ((2 ** relevance) - 1) / math.log2(rank + 1)\n",
    "\n",
    "class Retriever:\n",
    "    def search(self, dataset_name: str, query: str, top_k: int = 10, with_index: bool = True) -> list[tuple[str, float, str]]:\n",
    "        raise NotImplementedError()\n",
    "    \n",
    "    def evaluateNDCG(self, dataset_name, queries, qrels, docs, K = 10, print_more = False):\n",
    "        nDCG = []\n",
    "\n",
    "        for i in range(len(queries)):\n",
    "            query = queries[i]\n",
    "            if print_more:\n",
    "                preprocess_text = TextPreprocessor.getInstance().preprocess_text\n",
    "                print(f\"Query: {query.text}\")\n",
    "                print(f\"Query: {preprocess_text(query.text)}\")\n",
    "            \n",
    "            # Search\n",
    "            results = self.search(dataset_name, query.text, K, True)\n",
    "            if print_more:\n",
    "                for i, res in enumerate(results):\n",
    "                    print(f\"Result #{i} {res[1]}: {res[2]}\")\n",
    "                    print(f\"Result #{i} {res[1]}: {preprocess_text(res[2])}\")\n",
    "\n",
    "            # Find relevant documents for this query\n",
    "            relevant_qrels = [qrel for qrel in qrels if qrel.query_id == query.query_id]\n",
    "            relevant_qrels = sorted(relevant_qrels, key=lambda x: x.relevance, reverse=True)\n",
    "            if print_more:\n",
    "                for i, qrel in enumerate(relevant_qrels[:K]):\n",
    "                    doc = [doc for doc in docs if qrel.doc_id == doc.doc_id][0]\n",
    "                    print(f\"Qrel #{i} {qrel.relevance}: {doc.text}\")\n",
    "                    print(f\"Qrel #{i} {qrel.relevance}: {preprocess_text(doc.text)}\")\n",
    "            \n",
    "            DCG = [\n",
    "                calc_dcg(\n",
    "                    list(\n",
    "                        filter(\n",
    "                            lambda qrel: qrel.doc_id == doc[0], relevant_qrels\n",
    "                            )\n",
    "                        )[0].relevance if list(\n",
    "                        filter(\n",
    "                            lambda qrel: qrel.doc_id == doc[0], relevant_qrels\n",
    "                            )\n",
    "                        ) else 0\n",
    "                    , i+1\n",
    "                ) for i, doc in enumerate(results)]\n",
    "            \n",
    "            iDCG = [calc_dcg(qrel.relevance, i+1) for i, qrel in enumerate(relevant_qrels[:K])]\n",
    "            \n",
    "            res = sum(DCG) \n",
    "            ires = sum(iDCG) \n",
    "            nDCG.append(res/ires)\n",
    "            \n",
    "            if print_more:\n",
    "                print(\"\")\n",
    "                print(f\"query: {i+1}/{len(queries)}\")\n",
    "                print(f\"DCG: {res}\")\n",
    "                print(f\"iDCG: {ires}\")\n",
    "                print(f\"nDCG: {res/ires*100}%\")\n",
    "            if print_more:\n",
    "                print(f\"Average nDCG: {sum(nDCG)/len(nDCG)*100}%\")\n",
    "        \n",
    "        nDCG = sum(nDCG)/len(nDCG)*100\n",
    "\n",
    "        if print_more:\n",
    "            print(f\"Final Average nDCG: {nDCG}%\")\n",
    "\n",
    "        return nDCG\n",
    "\n",
    "    def evaluateMRR(self, dataset_name, queries, qrels, K = 100, print_more = False):\n",
    "        MRR = []\n",
    "\n",
    "        cleaned_qrels: dict[str, dict[str, int]] = {}\n",
    "        for qrel in qrels:\n",
    "            if qrel.query_id not in cleaned_qrels.keys():\n",
    "                cleaned_qrels[qrel.query_id] = {}\n",
    "            cleaned_qrels[qrel.query_id][qrel.doc_id] = qrel.relevance\n",
    "\n",
    "        for i in range(len(queries)):\n",
    "            query = queries[i]\n",
    "            results = self.search(dataset_name, query.text, K, True)\n",
    "            \n",
    "            firstRank = 100\n",
    "            for ii, res in enumerate(results):\n",
    "                if res[0] in cleaned_qrels[query.query_id].keys() and cleaned_qrels[query.query_id][res[0]] > 0:\n",
    "                    firstRank = ii + 1\n",
    "                    break\n",
    "            \n",
    "            MRR.append(1/firstRank)\n",
    "            \n",
    "            if print_more:\n",
    "                print()\n",
    "                print(f\"Query: {i+1}/{len(queries)}\")\n",
    "                print(f\"Current MRR: {sum(MRR) / len(MRR) * 100}\")\n",
    "        \n",
    "        MRR = sum(MRR) / len(MRR) * 100\n",
    "        if print_more:\n",
    "            print(f\"MRR: {MRR}%\")\n",
    "        return MRR\n",
    "    \n",
    "    def evaluateMAP(self, dataset_name, queries, qrels,docs, K = 10, print_more = False):\n",
    "        MAP = []\n",
    "\n",
    "        cleaned_qrels: dict[str, dict[str, int]] = {}\n",
    "        for qrel in qrels:\n",
    "            if qrel.query_id not in cleaned_qrels.keys():\n",
    "                cleaned_qrels[qrel.query_id] = {}\n",
    "            cleaned_qrels[qrel.query_id][qrel.doc_id] = qrel.relevance\n",
    "        \n",
    "        for i in range(len(queries)):\n",
    "            query = queries[i]\n",
    "            if print_more:\n",
    "                print()\n",
    "                print(f'Query: {i+1}/{len(queries)}')\n",
    "                print(query.text)\n",
    "\n",
    "            results = self.search(dataset_name, query.text, K, True)\n",
    "            if print_more:\n",
    "                print([res[0] for res in results])\n",
    "                print([qrel.doc_id+f\": {qrel.relevance}\" for qrel in qrels if qrel.query_id == query.query_id])\n",
    "                print(\"results\")\n",
    "                for doc in [doc for doc in docs if doc.doc_id in [res[0] for res in results]]:\n",
    "                    print(doc.doc_id+\" \"+doc.text)\n",
    "                print(\"qrels\")\n",
    "                koko = [qrel.doc_id for qrel in qrels if qrel.query_id == query.query_id]\n",
    "                for doc in [doc for doc in docs if doc.doc_id in koko]:\n",
    "                    print(doc.doc_id+\" \"+doc.text)\n",
    "\n",
    "            relevant_num = 0\n",
    "            precision_sum = 0\n",
    "            for ii, res in enumerate(results):\n",
    "                if res[0] in cleaned_qrels[query.query_id].keys() and cleaned_qrels[query.query_id][res[0]] > 0:\n",
    "                    relevant_num += 1\n",
    "                    precision_sum += relevant_num / (ii + 1)\n",
    "            if print_more:\n",
    "                print(precision_sum)\n",
    "            if relevant_num > 0:\n",
    "                MAP.append(precision_sum / relevant_num)\n",
    "            if print_more:\n",
    "                if len(MAP) > 0:\n",
    "                    print(f'MAP = {sum(MAP) / len(MAP) * 100}')\n",
    "        if len(MAP) > 0:\n",
    "            MAP = sum(MAP) / len(MAP) * 100\n",
    "        else:\n",
    "            MAP = 0\n",
    "        if print_more:\n",
    "            print(f'MAP={MAP}%')\n",
    "        return MAP\n",
    "\n",
    "    def evaluateAll(self, dataset_name, queries, qrels, K = 10):\n",
    "            MRR = []\n",
    "            MAP = []\n",
    "            nDCG = []\n",
    "\n",
    "            cleaned_qrels: dict[str, dict[str, int]] = {}\n",
    "            for qrel in qrels:\n",
    "                if qrel.query_id not in cleaned_qrels.keys():\n",
    "                    cleaned_qrels[qrel.query_id] = {}\n",
    "                cleaned_qrels[qrel.query_id][qrel.doc_id] = qrel.relevance\n",
    "\n",
    "            for i in range(len(queries)):\n",
    "                query = queries[i]\n",
    "                results = self.search(dataset_name, query.text, K, True)\n",
    "               \n",
    "                # MRR calc\n",
    "                firstRank = 10\n",
    "                for j, res in enumerate(results):\n",
    "                    if res[0] in cleaned_qrels[query.query_id] and cleaned_qrels[query.query_id][res[0]] > 0:\n",
    "                        # MRR calc\n",
    "                        firstRank = j + 1\n",
    "                        break\n",
    "                \n",
    "                # MAP calc\n",
    "                relevant_num = 0\n",
    "                precision_sum = 0\n",
    "                # nDCG calc\n",
    "                DCG = []\n",
    "                iDCG = []\n",
    "                for jj, ress in enumerate(results):\n",
    "                    if ress[0] in cleaned_qrels[query.query_id] and cleaned_qrels[query.query_id][ress[0]] > 0:\n",
    "                        # MAP calc\n",
    "                        relevant_num += 1\n",
    "                        precision_sum += relevant_num / (jj + 1)\n",
    "                        # nDCG calc\n",
    "                        DCG.append(calc_dcg(cleaned_qrels[query.query_id][ress[0]], jj+1))\n",
    "                    else:\n",
    "                        # nDCG calc\n",
    "                        DCG.append(calc_dcg(0, jj+1))\n",
    "                \n",
    "                # MRR calc\n",
    "                MRR.append(1 / firstRank)\n",
    "                \n",
    "                # MAP calc\n",
    "                if relevant_num > 0:\n",
    "                    MAP.append(precision_sum / relevant_num)\n",
    "                \n",
    "                # nDCG calc\n",
    "                iDCG = [calc_dcg(qrel[1], iii+1) for iii, qrel in enumerate(sorted(list(cleaned_qrels[query.query_id].items()),key = lambda qrel:qrel[1], reverse=True)[:K])]\n",
    "                res = sum(DCG)\n",
    "                ires = sum(iDCG)\n",
    "                nDCG.append(res/ires)\n",
    "               \n",
    "            # MRR\n",
    "            MRR = sum(MRR) / len(MRR) * 100\n",
    "            \n",
    "            # MAP    \n",
    "            if len(MAP) > 0:\n",
    "                MAP = sum(MAP) / len(MAP) * 100\n",
    "            else:\n",
    "                MAP = 0\n",
    "            \n",
    "            #nDCG\n",
    "            nDCG = sum(nDCG) / len(nDCG) * 100\n",
    "            \n",
    "            return {\n",
    "                \"MRR\": MRR,\n",
    "                \"MAP\": MAP,\n",
    "                \"nDCG\": nDCG\n",
    "            }"
   ]
  },
  {
   "cell_type": "markdown",
   "id": "1dc13c2b",
   "metadata": {},
   "source": [
    "### tf-idf"
   ]
  },
  {
   "cell_type": "code",
   "execution_count": 12,
   "id": "9c83ce57",
   "metadata": {},
   "outputs": [],
   "source": [
    "import time\n",
    "import dill\n",
    "import joblib\n",
    "import numpy as np\n",
    "from sklearn.metrics.pairwise import cosine_similarity\n",
    "\n",
    "class TFIDF_online(Retriever):\n",
    "    __tfidfInstance__ : dict[str, list] = {}\n",
    "    __invertedIndex__ : dict[str, InvertedIndex] = {}\n",
    "\n",
    "    @staticmethod\n",
    "    def __loadInstance__(dataset_name : str):\n",
    "        if dataset_name not in TFIDF_online.__tfidfInstance__.keys():\n",
    "\n",
    "            # Load the model and the documents\n",
    "            docs = load_dataset(dataset_name)\n",
    "            vectorizer = joblib.load(f\"../data/{dataset_name}/tfidf_vectorizer.joblib\")\n",
    "            docs_tfidf_matrix = joblib.load(f\"../data/{dataset_name}/tfidf_matrix.joblib\")\n",
    "\n",
    "            TFIDF_online.__tfidfInstance__[dataset_name] = [docs,vectorizer,docs_tfidf_matrix]\n",
    "\n",
    "    @staticmethod\n",
    "    def __loadInvertedIndex__(dataset_name : str):\n",
    "        if dataset_name not in TFIDF_online.__invertedIndex__.keys():\n",
    "            with open(f\"../data/{dataset_name}/inverted_index.dill\", \"rb\") as f:\n",
    "                inverted_index = InvertedIndex()\n",
    "                ii = dill.load(f)\n",
    "                inverted_index.index = ii.index\n",
    "                inverted_index.doc_lengths = ii.doc_lengths\n",
    "                inverted_index.N = ii.N\n",
    "                TFIDF_online.__invertedIndex__[dataset_name] = inverted_index\n",
    "\n",
    "    def search(self, dataset_name, query, top_k, with_index = True):\n",
    "\n",
    "        # Load the model and the index\n",
    "        self.__loadInstance__(dataset_name)\n",
    "        docs = self.__tfidfInstance__[dataset_name][0]\n",
    "        vectorizer = self.__tfidfInstance__[dataset_name][1]\n",
    "        docs_tfidf_matrix = self.__tfidfInstance__[dataset_name][2]\n",
    "        \n",
    "        self.__loadInvertedIndex__(dataset_name)\n",
    "        inverted_index = self.__invertedIndex__[dataset_name]\n",
    "\n",
    "        # Start the process\n",
    "        query_vec = vectorizer.transform([query])\n",
    "        \n",
    "        if(with_index):\n",
    "            tokenized_query = TextPreprocessor.getInstance().preprocess_text(query)\n",
    "            candidate_indices = inverted_index.get_documents_sharing_terms_with_query(tokenized_query)   \n",
    "            docs_tfidf_matrix = docs_tfidf_matrix[candidate_indices]\n",
    "            if docs_tfidf_matrix.shape[0] == 0 or query_vec.nnz == 0:\n",
    "                return []\n",
    "\n",
    "        cosine_sim = cosine_similarity(query_vec, docs_tfidf_matrix).flatten()\n",
    "\n",
    "        ranked_indices = np.argsort(cosine_sim)[::-1]\n",
    "\n",
    "        # Prepare structured results\n",
    "        results = []\n",
    "        # Limit results to a reasonable number for display/API response, e.g., top 10 or 20\n",
    "        for i in ranked_indices[:top_k]:\n",
    "            if(with_index):\n",
    "                original_doc_idx = candidate_indices[i]\n",
    "            else:\n",
    "                original_doc_idx = i\n",
    "\n",
    "            doc = docs[original_doc_idx]\n",
    "            results.append((\n",
    "                docs[original_doc_idx].doc_id,\n",
    "                float(cosine_sim[i]),\n",
    "                doc.text[:40] + \"...\" if len(doc.text) > 40 else doc.text # Provide a snippet\n",
    "            ))\n",
    "        return results\n"
   ]
  },
  {
   "cell_type": "markdown",
   "id": "fbf62bdf",
   "metadata": {},
   "source": [
    "### Embedding"
   ]
  },
  {
   "cell_type": "code",
   "execution_count": 13,
   "id": "d29bfcc0",
   "metadata": {},
   "outputs": [
    {
     "name": "stderr",
     "output_type": "stream",
     "text": [
      "c:\\Python312\\Lib\\site-packages\\tqdm\\auto.py:21: TqdmWarning: IProgress not found. Please update jupyter and ipywidgets. See https://ipywidgets.readthedocs.io/en/stable/user_install.html\n",
      "  from .autonotebook import tqdm as notebook_tqdm\n"
     ]
    }
   ],
   "source": [
    "import math\n",
    "import chromadb\n",
    "from sentence_transformers import SentenceTransformer, util\n",
    "import numpy as np\n",
    "import torch\n",
    "\n",
    "class Embedding_online(Retriever):\n",
    "    __embeddingInstance__ : dict[str, any] = {}\n",
    "    __collection_instance__: dict = {}\n",
    "    __modelInstance__  = None\n",
    "    __docs__: dict = {}\n",
    "\n",
    "    @staticmethod\n",
    "    def __loadModelInstance__():\n",
    "        if Embedding_online.__modelInstance__ == None:\n",
    "            Embedding_online.__modelInstance__ = SentenceTransformer(\"../data/models/all-MiniLM-L6-v2\") \n",
    "        return Embedding_online.__modelInstance__\n",
    "\n",
    "    @staticmethod\n",
    "    def __loadInstance__(dataset_name : str):\n",
    "        if dataset_name not in Embedding_online.__embeddingInstance__.keys():\n",
    "            with open(f\"../data/{dataset_name}/bert_embeddings.npy\", \"rb\") as f:\n",
    "                Embedding_online.__embeddingInstance__[dataset_name] = np.load(f)\n",
    "        return Embedding_online.__embeddingInstance__[dataset_name]\n",
    "\n",
    "    @staticmethod\n",
    "    def __get_collection__(dataset_name: str):\n",
    "        if dataset_name not in Embedding_online.__collection_instance__:\n",
    "            client = chromadb.PersistentClient(path=f\"../data/{dataset_name}/chroma_db\")\n",
    "            Embedding_online.__collection_instance__[dataset_name] = client.get_collection(name=f\"{dataset_name}_embeddings\")\n",
    "        return Embedding_online.__collection_instance__[dataset_name]\n",
    "    \n",
    "    @staticmethod\n",
    "    def __loadDocs__(dataset_name: str):\n",
    "        if dataset_name not in Embedding_online.__docs__:\n",
    "            docs = load_dataset(dataset_name)\n",
    "            Embedding_online.__docs__[dataset_name] = docs\n",
    "        return Embedding_online.__docs__[dataset_name]\n",
    "    \n",
    "    with_index = False\n",
    "\n",
    "    def search(self, dataset_name: str, query: str, top_k: int = 10, useless_param = None):\n",
    "        if self.with_index:\n",
    "            return self.embedding_vectors_search(dataset_name, query, top_k)\n",
    "        else:\n",
    "            return self.embedding_search(dataset_name, query, top_k)\n",
    "\n",
    "    def embedding_search(self, dataset_name: str, query: str, top_k: int):\n",
    "        # Load model and documents\n",
    "        model = Embedding_online.__loadModelInstance__()\n",
    "        document_embeddings =  Embedding_online.__loadInstance__(dataset_name)\n",
    "        docs =  Embedding_online.__loadDocs__(dataset_name)\n",
    "        processedQuery = TextPreprocessor.getInstance().preprocess_text(query)\n",
    "        query_embedding = model.encode(\" \".join(processedQuery))\n",
    "\n",
    "        cos_scores = util.cos_sim(torch.tensor(query_embedding), torch.tensor(document_embeddings))[0]\n",
    "        top_results = torch.topk(cos_scores, k=top_k)\n",
    "        results = []\n",
    "        # print(f\"\\nTop {top_k} results for query: '{query}'\")\n",
    "        for score, idx in zip(top_results[0], top_results[1]):\n",
    "            doc_id = docs[idx].doc_id\n",
    "            doc_text = docs[idx].text[:100] + \"...\" \n",
    "            results.append((doc_id, score.item(), doc_text))\n",
    "            # print(f\"Doc ID: {doc_id}, Score: {score.item():.4f}, Text: {doc_text}\"\n",
    "        return results\n",
    "\n",
    "    def embedding_vectors_search(self, dataset_name: str, query: str, top_k: int):\n",
    "        #Load model and collection\n",
    "        model = Embedding_online.__loadModelInstance__()\n",
    "        collection = Embedding_online.__get_collection__(dataset_name)\n",
    "        #process query\n",
    "        processedQuery = TextPreprocessor.getInstance().preprocess_text(query)\n",
    "        query_embedding = model.encode(\" \".join(processedQuery))\n",
    "        search_results = collection.query(\n",
    "            query_embeddings=[query_embedding],\n",
    "            n_results=top_k\n",
    "        )\n",
    "        results = []\n",
    "        ids = search_results['ids'][0]\n",
    "        distances = search_results['distances'][0]\n",
    "        metadatas = search_results['metadatas'][0]\n",
    "        for doc_id, score, meta in zip(ids, distances, metadatas):\n",
    "            similarity_score = 1 - score\n",
    "            text = meta.get('text', '')[:100] + \"...\" \n",
    "            results.append((doc_id, similarity_score, text))\n",
    "        return results\n",
    "\n",
    "    def embedding_rerank(self, dataset_name: str, query: str, doc_ids: list) -> list[tuple[str, float]]:\n",
    "        \"\"\"\n",
    "        Efficiently re-ranks a list of documents using the loaded embeddings.\n",
    "        \"\"\"\n",
    "\n",
    "        docs_list = load_dataset(dataset_name)\n",
    "        document_embeddings =  Embedding_online.__loadInstance__(dataset_name)\n",
    "        model = Embedding_online.__loadModelInstance__()\n",
    "\n",
    "        # 1. Create a quick lookup map for doc_id to its index\n",
    "        doc_id_to_index = enumerate(docs_list)\n",
    "\n",
    "        # 2. Get the indices and embeddings for the documents we need to rerank\n",
    "        candidate_indices = [i for i, doc in doc_id_to_index if doc.doc_id in doc_ids]\n",
    "\n",
    "        # Filter out any docs that might not be in our list\n",
    "        valid_indices = [idx for idx in candidate_indices if idx is not None]\n",
    "        \n",
    "        if not valid_indices:\n",
    "            return []\n",
    "            \n",
    "        candidate_embeddings = document_embeddings[valid_indices]\n",
    "        \n",
    "        # 3. Encode the query\n",
    "        query_embedding = model.encode(query, convert_to_tensor=True)\n",
    "        \n",
    "        # 4. Calculate similarity scores\n",
    "        cosine_scores = util.cos_sim(query_embedding, candidate_embeddings)[0]\n",
    "        \n",
    "        # 5. Pair the original doc_ids (that were valid) with their new scores\n",
    "        valid_doc_ids = [docs_list[i] for i in valid_indices]\n",
    "        reranked_results = []\n",
    "        for doc_id, score in zip(valid_doc_ids, cosine_scores):\n",
    "            reranked_results.append((doc_id, score.item()))\n",
    "\n",
    "        return sorted(reranked_results, key=lambda item: item[1], reverse=True)"
   ]
  },
  {
   "cell_type": "markdown",
   "id": "510b13ca",
   "metadata": {},
   "source": [
    "### bm25"
   ]
  },
  {
   "cell_type": "code",
   "execution_count": 14,
   "id": "fa2d8e37",
   "metadata": {},
   "outputs": [],
   "source": [
    "import math\n",
    "import os\n",
    "import dill\n",
    "from rank_bm25 import BM25Okapi\n",
    "\n",
    "class BM25_online(Retriever):\n",
    "    __bm25instance__ : dict[str, BM25Okapi] = {}\n",
    "    __invertedIndex__ : dict[str, InvertedIndex] = {}\n",
    "    __docs__ : dict[str, list[str, str]] = {}\n",
    "    @staticmethod\n",
    "    def __loadInstance__(dataset_name : str):\n",
    "        if dataset_name not in BM25_online.__bm25instance__.keys():\n",
    "            with open(os.path.join(os.path.abspath(''), f\"../data/{dataset_name}/bm25_model.dill\"), \"rb\") as f:\n",
    "                BM25_online.__bm25instance__[dataset_name] = dill.load(f) \n",
    "        return BM25_online.__bm25instance__[dataset_name]\n",
    "    @staticmethod\n",
    "    def __loadInvertedIndex__(dataset_name : str):\n",
    "        if dataset_name not in BM25_online.__invertedIndex__.keys():\n",
    "            with open(f\"../data/{dataset_name}/inverted_index.dill\", \"rb\") as f:\n",
    "                inverted_index = InvertedIndex()\n",
    "                ii = dill.load(f)\n",
    "                inverted_index.index = ii.index\n",
    "                inverted_index.doc_lengths = ii.doc_lengths\n",
    "                inverted_index.N = ii.N\n",
    "                BM25_online.__invertedIndex__[dataset_name] = inverted_index\n",
    "        return BM25_online.__invertedIndex__[dataset_name]\n",
    "    @staticmethod\n",
    "    def __loadDocs__(dataset_name : str):\n",
    "        if dataset_name not in BM25_online.__docs__.keys():\n",
    "            BM25_online.__docs__[dataset_name] = load_dataset(dataset_name)\n",
    "        return BM25_online.__docs__[dataset_name]\n",
    "\n",
    "    def search(self, dataset_name: str, query: str, top_k: int = 10, with_inverted_index: bool = True) -> list[tuple[str, float, str]]:\n",
    "        # Load the model and the documents\n",
    "        bm25 = BM25_online.__loadInstance__(dataset_name)\n",
    "        docs = BM25_online.__loadDocs__(dataset_name)\n",
    "        if with_inverted_index:\n",
    "            inverted_index = BM25_online.__loadInvertedIndex__(dataset_name)\n",
    "\n",
    "        # Execute the query\n",
    "        query_tokens = TextPreprocessor.getInstance().preprocess_text(query)\n",
    "\n",
    "        if with_inverted_index:\n",
    "            documents_sharing_terms_with_query = inverted_index.get_documents_sharing_terms_with_query(query_tokens)\n",
    "            scores = bm25.get_batch_scores(query_tokens, documents_sharing_terms_with_query)\n",
    "        else:\n",
    "            scores = bm25.get_scores(query_tokens)\n",
    "\n",
    "        # Sort the results\n",
    "        if with_inverted_index:\n",
    "            top_indices = sorted(list(enumerate(documents_sharing_terms_with_query)), key=lambda  elm: scores[elm[0]], reverse=True)[:top_k]\n",
    "        else:\n",
    "            top_indices = sorted(range(len(scores)), key=lambda i: scores[i], reverse=True)[:top_k]\n",
    "\n",
    "        results = []\n",
    "\n",
    "        # Display the results\n",
    "        if with_inverted_index:\n",
    "            for elm in top_indices:\n",
    "                text = docs[elm[1]].text\n",
    "                results.append((docs[elm[1]].doc_id, scores[elm[0]], text))\n",
    "        else:\n",
    "            for idx in top_indices:\n",
    "                text = docs[idx].text\n",
    "                results.append((docs[idx].doc_id, scores[idx], text))\n",
    "        \n",
    "        return results\n"
   ]
  },
  {
   "cell_type": "markdown",
   "id": "04ded554",
   "metadata": {},
   "source": [
    "### Hybrid"
   ]
  },
  {
   "cell_type": "code",
   "execution_count": 15,
   "id": "cbf0d083",
   "metadata": {},
   "outputs": [],
   "source": [
    "class Hybrid_online(Retriever):\n",
    "    with_vector_store = False\n",
    "\n",
    "    def __normalize_scores__(self, ranked_list: list) -> list:\n",
    "        \"\"\"\n",
    "        Normalizes scores in a ranked list to a [0, 1] scale.\n",
    "        \"\"\"\n",
    "        scores = [score for doc_id, score, text in ranked_list]\n",
    "        if not scores:\n",
    "            return []\n",
    "        \n",
    "        min_score = min(scores)\n",
    "        max_score = max(scores)\n",
    "        \n",
    "        if max_score == min_score:\n",
    "            return [(doc_id, 1.0) for doc_id, score, text in ranked_list]\n",
    "        \n",
    "        normalized_list = []\n",
    "        for doc_id, score, text in ranked_list:\n",
    "            normalized_score = (score - min_score) / (max_score - min_score)\n",
    "            normalized_list.append((doc_id, normalized_score))\n",
    "        return normalized_list\n",
    "\n",
    "    def search(self, dataset_name: str, query: str, top_k: int = 10, with_index: bool = True) -> list[tuple[str, float, str]]:\n",
    "        \"\"\"\n",
    "        Performs a complex hybrid search.\n",
    "        \"\"\"\n",
    "\n",
    "        # --- Get the required service modules from the registry ---\n",
    "        tfidf_service = TFIDF_online()\n",
    "        bm25_service = BM25_online()\n",
    "        embedding_service = Embedding_online()\n",
    "        embedding_service.with_index = self.with_vector_store\n",
    "\n",
    "        # ==========================================================================\n",
    "        #  STAGE 1: Parallel Fusion of TF-IDF and BM25\n",
    "        # ==========================================================================\n",
    "        \n",
    "        tfidf_results = tfidf_service.search(dataset_name, query, top_k*2)\n",
    "\n",
    "        bm25_results = bm25_service.search(dataset_name, query, top_k*2)\n",
    "\n",
    "        # --- Normalize and Fuse the lexical results ---\n",
    "        norm_tfidf = self.__normalize_scores__(tfidf_results)\n",
    "        norm_bm25 = self.__normalize_scores__(bm25_results)\n",
    "\n",
    "        fused_scores = {}\n",
    "        tfidf_weight = 0.5\n",
    "        bm25_weight = 0.5\n",
    "\n",
    "        for doc_id, score in norm_tfidf:\n",
    "            fused_scores[str(doc_id)] = score * tfidf_weight\n",
    "\n",
    "        for doc_id, score in norm_bm25:\n",
    "            doc_id_str = str(doc_id)\n",
    "            if doc_id_str in fused_scores:\n",
    "                fused_scores[doc_id_str] += score * bm25_weight\n",
    "            else:\n",
    "                fused_scores[doc_id_str] = score * bm25_weight\n",
    "                \n",
    "        # --- Create the final candidate list from Stage 1 ---\n",
    "        candidate_list = sorted(fused_scores.items(), key=lambda item: item[1], reverse=True)\n",
    "        \n",
    "        # Extract just the document IDs for the next stage\n",
    "        candidate_doc_ids = [doc_id for doc_id, score in candidate_list]\n",
    "        \n",
    "        # ==========================================================================\n",
    "        #  STAGE 2: Serial Re-ranking with Embedding Model\n",
    "        # ==========================================================================\n",
    "\n",
    "        # Call the new, efficient rerank function from the embedding service\n",
    "        final_list = embedding_service.embedding_rerank(dataset_name, query, candidate_doc_ids)\n",
    "        \n",
    "        return final_list[:top_k]"
   ]
  },
  {
   "cell_type": "markdown",
   "id": "dad472f7",
   "metadata": {},
   "source": [
    "## Evaluate"
   ]
  },
  {
   "cell_type": "markdown",
   "id": "02006705",
   "metadata": {},
   "source": [
    "### Antique"
   ]
  },
  {
   "cell_type": "code",
   "execution_count": 16,
   "id": "62591ddf",
   "metadata": {},
   "outputs": [],
   "source": [
    "antiqueDocs, antiqueQueries, antiqueQrels = load_dataset_with_queries('antique')"
   ]
  },
  {
   "cell_type": "markdown",
   "id": "505bd554",
   "metadata": {},
   "source": [
    "### Antique tf-idf"
   ]
  },
  {
   "cell_type": "code",
   "execution_count": 17,
   "id": "8d076b53",
   "metadata": {},
   "outputs": [
    {
     "name": "stdout",
     "output_type": "stream",
     "text": [
      "\n",
      "Calculating Evaluation for tf-idf\n"
     ]
    },
    {
     "name": "stderr",
     "output_type": "stream",
     "text": [
      "c:\\Python312\\Lib\\site-packages\\sklearn\\base.py:440: InconsistentVersionWarning: Trying to unpickle estimator TfidfTransformer from version 1.6.1 when using version 1.7.0. This might lead to breaking code or invalid results. Use at your own risk. For more info please refer to:\n",
      "https://scikit-learn.org/stable/model_persistence.html#security-maintainability-limitations\n",
      "  warnings.warn(\n",
      "c:\\Python312\\Lib\\site-packages\\sklearn\\base.py:440: InconsistentVersionWarning: Trying to unpickle estimator TfidfVectorizer from version 1.6.1 when using version 1.7.0. This might lead to breaking code or invalid results. Use at your own risk. For more info please refer to:\n",
      "https://scikit-learn.org/stable/model_persistence.html#security-maintainability-limitations\n",
      "  warnings.warn(\n"
     ]
    },
    {
     "name": "stdout",
     "output_type": "stream",
     "text": [
      "tf-idf MAP= 71.12665068342152\n",
      "tf-idf MRR= 76.90498737373737\n",
      "tf-idf NDCG= 18.15243375569528\n",
      "This took 10.739450216293335s\n",
      "\n"
     ]
    }
   ],
   "source": [
    "print()\n",
    "print(\"Calculating Evaluation for tf-idf\")\n",
    "st = time.time()\n",
    "ev = TFIDF_online().evaluateAll('antique', antiqueQueries, antiqueQrels)\n",
    "antique_tfidf_MAP = ev[\"MAP\"]\n",
    "antique_tfidf_MRR = ev[\"MRR\"]\n",
    "antique_tfidf_NDCG = ev[\"nDCG\"]\n",
    "print(f\"tf-idf MAP= {antique_tfidf_MAP}\")\n",
    "print(f\"tf-idf MRR= {antique_tfidf_MRR}\")\n",
    "print(f\"tf-idf NDCG= {antique_tfidf_NDCG}\")\n",
    "print(f\"This took {time.time() - st}s\")\n",
    "print()"
   ]
  },
  {
   "cell_type": "markdown",
   "id": "71ba6218",
   "metadata": {},
   "source": [
    "### Antique Embedding"
   ]
  },
  {
   "cell_type": "code",
   "execution_count": 58,
   "id": "5f3cc2f5",
   "metadata": {},
   "outputs": [
    {
     "name": "stdout",
     "output_type": "stream",
     "text": [
      "\n",
      "Calculating Evaluation for embedding\n",
      "embedding MAP= 70.70049649020415\n",
      "embedding MRR= 73.85484307359307\n",
      "embedding NDCG= 24.138502457633642\n",
      "This took 56.50550556182861s\n",
      "\n"
     ]
    }
   ],
   "source": [
    "emon = Embedding_online()\n",
    "emon.with_index = False\n",
    "\n",
    "print()\n",
    "print(\"Calculating Evaluation for embedding\")\n",
    "st = time.time()\n",
    "ev = emon.evaluateAll('antique', antiqueQueries, antiqueQrels)\n",
    "antique_embedding_time = time.time() - st\n",
    "antique_embedding_MAP = ev[\"MAP\"]\n",
    "antique_embedding_MRR = ev[\"MRR\"]\n",
    "antique_embedding_NDCG = ev[\"nDCG\"]\n",
    "print(f\"embedding MAP= {antique_embedding_MAP}\")\n",
    "print(f\"embedding MRR= {antique_embedding_MRR}\")\n",
    "print(f\"embedding NDCG= {antique_embedding_NDCG}\")\n",
    "print(f\"This took {antique_embedding_time}s\")\n",
    "print()"
   ]
  },
  {
   "cell_type": "markdown",
   "id": "83f0024e",
   "metadata": {},
   "source": [
    "### Antique bm25"
   ]
  },
  {
   "cell_type": "code",
   "execution_count": 19,
   "id": "d76356a7",
   "metadata": {},
   "outputs": [
    {
     "name": "stdout",
     "output_type": "stream",
     "text": [
      "\n",
      "Calculating Evaluation for bm25\n",
      "bm25 MAP= 89.45107788485764\n",
      "bm25 MRR= 94.51388888888889\n",
      "bm25 NDCG= 34.83820457266452\n",
      "This took 22.298292875289917s\n",
      "\n"
     ]
    }
   ],
   "source": [
    "print()\n",
    "print(\"Calculating Evaluation for bm25\")\n",
    "st = time.time()\n",
    "ev = BM25_online().evaluateAll('antique', antiqueQueries, antiqueQrels)\n",
    "antique_bm25_MAP = ev[\"MAP\"]\n",
    "antique_bm25_MRR = ev[\"MRR\"]\n",
    "antique_bm25_NDCG = ev[\"nDCG\"]\n",
    "print(f\"bm25 MAP= {antique_bm25_MAP}\")\n",
    "print(f\"bm25 MRR= {antique_bm25_MRR}\")\n",
    "print(f\"bm25 NDCG= {antique_bm25_NDCG}\")\n",
    "print(f\"This took {time.time() - st}s\")\n",
    "print()"
   ]
  },
  {
   "cell_type": "markdown",
   "id": "460c84c8",
   "metadata": {},
   "source": [
    "### Antique hybrid"
   ]
  },
  {
   "cell_type": "code",
   "execution_count": 20,
   "id": "def312db",
   "metadata": {},
   "outputs": [
    {
     "name": "stdout",
     "output_type": "stream",
     "text": [
      "\n",
      "Calculating Evaluation for hybrid\n",
      "hybrid MAP= 0\n",
      "hybrid MRR= 10.0\n",
      "hybrid NDCG= 0.0\n",
      "This took 289.0089120864868s\n",
      "\n"
     ]
    }
   ],
   "source": [
    "hyon = Hybrid_online()\n",
    "hyon.with_vector_store = False\n",
    "\n",
    "print()\n",
    "print(\"Calculating Evaluation for hybrid\")\n",
    "st = time.time()\n",
    "ev = hyon.evaluateAll('antique', antiqueQueries, antiqueQrels)\n",
    "antique_hybrid_MAP = ev[\"MAP\"]\n",
    "antique_hybrid_MRR = ev[\"MRR\"]\n",
    "antique_hybrid_NDCG = ev[\"nDCG\"]\n",
    "print(f\"hybrid MAP= {antique_hybrid_MAP}\")\n",
    "print(f\"hybrid MRR= {antique_hybrid_MRR}\")\n",
    "print(f\"hybrid NDCG= {antique_hybrid_NDCG}\")\n",
    "print(f\"This took {time.time() - st}s\")\n",
    "print()"
   ]
  },
  {
   "cell_type": "markdown",
   "id": "86baa4f0",
   "metadata": {},
   "source": [
    "### Quora"
   ]
  },
  {
   "cell_type": "code",
   "execution_count": 21,
   "id": "fd9ec27e",
   "metadata": {},
   "outputs": [],
   "source": [
    "quoraDocs, quoraQueries, quoraQrels = load_dataset_with_queries('quora')"
   ]
  },
  {
   "cell_type": "markdown",
   "id": "2ad8f241",
   "metadata": {},
   "source": [
    "### Quora tf-idf"
   ]
  },
  {
   "cell_type": "code",
   "execution_count": 22,
   "id": "8a241474",
   "metadata": {},
   "outputs": [
    {
     "name": "stdout",
     "output_type": "stream",
     "text": [
      "\n",
      "Calculating Evaluation for tf-idf\n",
      "tf-idf MAP= 80.23258630273105\n",
      "tf-idf MRR= 71.34538095238095\n",
      "tf-idf NDCG= 70.80457151800424\n",
      "This took 37.469403982162476s\n",
      "\n"
     ]
    }
   ],
   "source": [
    "print()\n",
    "print(\"Calculating Evaluation for tf-idf\")\n",
    "st = time.time()\n",
    "ev = TFIDF_online().evaluateAll('quora', quoraQueries, quoraQrels)\n",
    "quora_tfidf_MAP = ev[\"MAP\"]\n",
    "quora_tfidf_MRR = ev[\"MRR\"]\n",
    "quora_tfidf_NDCG = ev[\"nDCG\"]\n",
    "print(f\"tf-idf MAP= {quora_tfidf_MAP}\")\n",
    "print(f\"tf-idf MRR= {quora_tfidf_MRR}\")\n",
    "print(f\"tf-idf NDCG= {quora_tfidf_NDCG}\")\n",
    "print(f\"This took {time.time() - st}s\")\n",
    "print()"
   ]
  },
  {
   "cell_type": "markdown",
   "id": "899c708f",
   "metadata": {},
   "source": [
    "### Quora Embedding"
   ]
  },
  {
   "cell_type": "code",
   "execution_count": null,
   "id": "9e3f46d1",
   "metadata": {},
   "outputs": [
    {
     "name": "stdout",
     "output_type": "stream",
     "text": [
      "\n",
      "Calculating Evaluation for embedding\n",
      "embedding MAP= 82.9923493658112\n",
      "embedding MRR= 79.32079365079365\n",
      "embedding NDCG= 79.92392923870723\n",
      "This took 1446.8994209766388s\n",
      "\n"
     ]
    }
   ],
   "source": [
    "emon = Embedding_online()\n",
    "emon.with_index = False\n",
    "\n",
    "print()\n",
    "print(\"Calculating Evaluation for embedding\")\n",
    "st = time.time()\n",
    "ev = emon.evaluateAll('quora', quoraQueries, quoraQrels)\n",
    "quora_embedding_time = time.time() - st\n",
    "quora_embedding_MAP = ev[\"MAP\"]\n",
    "quora_embedding_MRR = ev[\"MRR\"]\n",
    "quora_embedding_NDCG = ev[\"nDCG\"]\n",
    "print(f\"embedding MAP= {quora_embedding_MAP}\")\n",
    "print(f\"embedding MRR= {quora_embedding_MRR}\")\n",
    "print(f\"embedding NDCG= {quora_embedding_NDCG}\")\n",
    "print(f\"This took {quora_embedding_time}s\")\n",
    "print()"
   ]
  },
  {
   "cell_type": "markdown",
   "id": "e888ed57",
   "metadata": {},
   "source": [
    "### Quora bm25"
   ]
  },
  {
   "cell_type": "code",
   "execution_count": null,
   "id": "8ea55d81",
   "metadata": {},
   "outputs": [
    {
     "name": "stdout",
     "output_type": "stream",
     "text": [
      "\n",
      "Calculating Evaluation for bm25\n",
      "bm25 MAP= 81.6315846452407\n",
      "bm25 MRR= 75.05993650793651\n",
      "bm25 NDCG= 74.80726116907329\n",
      "This took 358.2258417606354s\n",
      "\n"
     ]
    }
   ],
   "source": [
    "print()\n",
    "print(\"Calculating Evaluation for bm25\")\n",
    "st = time.time()\n",
    "ev = BM25_online().evaluateAll('quora', quoraQueries, quoraQrels)\n",
    "quora_bm25_MAP = ev[\"MAP\"]\n",
    "quora_bm25_MRR = ev[\"MRR\"]\n",
    "quora_bm25_NDCG = ev[\"nDCG\"]\n",
    "print(f\"bm25 MAP= {quora_bm25_MAP}\")\n",
    "print(f\"bm25 MRR= {quora_bm25_MRR}\")\n",
    "print(f\"bm25 NDCG= {quora_bm25_NDCG}\")\n",
    "print(f\"This took {time.time() - st}s\")\n",
    "print()"
   ]
  },
  {
   "cell_type": "markdown",
   "id": "c674ca2b",
   "metadata": {},
   "source": [
    "### Quora Hybrid"
   ]
  },
  {
   "cell_type": "code",
   "execution_count": 25,
   "id": "877e9bf6",
   "metadata": {},
   "outputs": [
    {
     "name": "stdout",
     "output_type": "stream",
     "text": [
      "\n",
      "Calculating Evaluation for hybrid\n",
      "hybrid MAP= 0\n",
      "hybrid MRR= 10.0\n",
      "hybrid NDCG= 0.0\n",
      "This took 7551.372604608536s\n",
      "\n"
     ]
    }
   ],
   "source": [
    "hyon = Hybrid_online()\n",
    "hyon.with_vector_store = False\n",
    "\n",
    "print()\n",
    "print(\"Calculating Evaluation for hybrid\")\n",
    "st = time.time()\n",
    "ev = hyon.evaluateAll('quora', quoraQueries, quoraQrels)\n",
    "quora_hybrid_MAP = ev[\"MAP\"]\n",
    "quora_hybrid_MRR = ev[\"MRR\"]\n",
    "quora_hybrid_NDCG = ev[\"nDCG\"]\n",
    "print(f\"hybrid MAP= {quora_hybrid_MAP}\")\n",
    "print(f\"hybrid MRR= {quora_hybrid_MRR}\")\n",
    "print(f\"hybrid NDCG= {quora_hybrid_NDCG}\")\n",
    "print(f\"This took {time.time() - st}s\")\n",
    "print()"
   ]
  },
  {
   "cell_type": "markdown",
   "id": "1aa8a4d3",
   "metadata": {},
   "source": [
    "### antique with vector store"
   ]
  },
  {
   "cell_type": "code",
   "execution_count": 60,
   "id": "1fa38e25",
   "metadata": {},
   "outputs": [
    {
     "name": "stdout",
     "output_type": "stream",
     "text": [
      "\n",
      "Calculating Evaluation for embedding\n"
     ]
    },
    {
     "name": "stdout",
     "output_type": "stream",
     "text": [
      "embedding MAP= 69.68952571531936\n",
      "embedding MRR= 71.51830808080808\n",
      "embedding NDCG= 23.33915758817651\n",
      "This took 10.471136331558228s\n",
      "\n"
     ]
    }
   ],
   "source": [
    "emon = Embedding_online()\n",
    "emon.with_index = True\n",
    "\n",
    "print()\n",
    "print(\"Calculating Evaluation for embedding\")\n",
    "st = time.time()\n",
    "ev = emon.evaluateAll('antique', antiqueQueries, antiqueQrels)\n",
    "vector_store_antique_embedding_time = time.time() - st\n",
    "vector_store_antique_embedding_MAP = ev[\"MAP\"]\n",
    "vector_store_antique_embedding_MRR = ev[\"MRR\"]\n",
    "vector_store_antique_embedding_NDCG = ev[\"nDCG\"]\n",
    "print(f\"embedding MAP= {vector_store_antique_embedding_MAP}\")\n",
    "print(f\"embedding MRR= {vector_store_antique_embedding_MRR}\")\n",
    "print(f\"embedding NDCG= {vector_store_antique_embedding_NDCG}\")\n",
    "print(f\"This took {vector_store_antique_embedding_time}s\")\n",
    "print()"
   ]
  },
  {
   "cell_type": "markdown",
   "id": "f1959b48",
   "metadata": {},
   "source": [
    "### quora with vector store"
   ]
  },
  {
   "cell_type": "code",
   "execution_count": 61,
   "id": "31404068",
   "metadata": {},
   "outputs": [
    {
     "name": "stdout",
     "output_type": "stream",
     "text": [
      "\n",
      "Calculating Evaluation for embedding\n",
      "embedding MAP= 83.22125302780387\n",
      "embedding MRR= 78.83410317460317\n",
      "embedding NDCG= 79.14661442188407\n",
      "This took 366.4081835746765s\n",
      "\n"
     ]
    }
   ],
   "source": [
    "emon = Embedding_online()\n",
    "emon.with_index = True\n",
    "\n",
    "print()\n",
    "print(\"Calculating Evaluation for embedding\")\n",
    "st = time.time()\n",
    "ev = emon.evaluateAll('quora', quoraQueries, quoraQrels)\n",
    "vector_store_quora_embedding_time = time.time() - st\n",
    "vector_store_quora_embedding_MAP = ev[\"MAP\"]\n",
    "vector_store_quora_embedding_MRR = ev[\"MRR\"]\n",
    "vector_store_quora_embedding_NDCG = ev[\"nDCG\"]\n",
    "print(f\"embedding MAP= {vector_store_quora_embedding_MAP}\")\n",
    "print(f\"embedding MRR= {vector_store_quora_embedding_MRR}\")\n",
    "print(f\"embedding NDCG= {vector_store_quora_embedding_NDCG}\")\n",
    "print(f\"This took {vector_store_quora_embedding_time}s\")\n",
    "print()"
   ]
  },
  {
   "cell_type": "markdown",
   "id": "a357d1b8",
   "metadata": {},
   "source": [
    "### Collecting results"
   ]
  },
  {
   "cell_type": "code",
   "execution_count": null,
   "id": "4704d05a",
   "metadata": {},
   "outputs": [],
   "source": [
    "antique_values = np.array([\n",
    "    [antique_tfidf_MRR / 100, antique_embedding_MRR / 100, antique_bm25_MRR / 100, antique_hybrid_MRR / 100],\n",
    "    [antique_tfidf_MAP / 100, antique_embedding_MAP / 100, antique_bm25_MAP / 100, antique_hybrid_MAP / 100],\n",
    "    [antique_tfidf_NDCG / 100, antique_embedding_NDCG / 100, antique_bm25_NDCG / 100, antique_hybrid_NDCG / 100],\n",
    "    ])\n",
    "\n",
    "quora_values = np.array([\n",
    "    [quora_tfidf_MRR / 100, quora_embedding_MRR / 100, quora_bm25_MRR / 100, quora_hybrid_MRR / 100],\n",
    "    [quora_tfidf_MAP / 100, quora_embedding_MAP / 100, quora_bm25_MAP / 100, quora_hybrid_MAP / 100],\n",
    "    [quora_tfidf_NDCG / 100, quora_embedding_NDCG / 100, quora_bm25_NDCG / 100, quora_hybrid_NDCG / 100],\n",
    "    ])\n",
    "\n",
    "vector_store_antique_values = np.array([\n",
    "    [antique_embedding_MAP / 100, vector_store_antique_embedding_MAP / 100],\n",
    "    [antique_embedding_MRR / 100, vector_store_antique_embedding_MRR / 100],\n",
    "    [antique_embedding_NDCG / 100, vector_store_antique_embedding_NDCG / 100],\n",
    "    ])\n",
    "\n",
    "vector_store_quora_values = np.array([\n",
    "    [quora_embedding_MAP / 100, vector_store_quora_embedding_MAP / 100],\n",
    "    [quora_embedding_MRR / 100, vector_store_quora_embedding_MRR / 100],\n",
    "    [quora_embedding_NDCG / 100, vector_store_quora_embedding_NDCG / 100],\n",
    "    ])\n",
    "\n",
    "embedding_evaluation_times = [\n",
    "    [antique_embedding_time, vector_store_antique_embedding_time],\n",
    "    [quora_embedding_time, vector_store_quora_embedding_time]\n",
    "]"
   ]
  },
  {
   "cell_type": "markdown",
   "id": "bff80253",
   "metadata": {},
   "source": [
    "# Plotting"
   ]
  },
  {
   "cell_type": "code",
   "execution_count": 51,
   "id": "398e8ec5",
   "metadata": {},
   "outputs": [],
   "source": [
    "import matplotlib.pyplot as plt\n",
    "import numpy as np\n",
    "\n",
    "methods = [\"tf-idf\", \"embedding\", \"bm25\", \"hybrid\"]\n",
    "metrics = [\"MRR\", \"MAP\", \"nDCG\"]\n",
    "x_pos = np.arange(len(methods))\n",
    "y_pos = np.arange(len(metrics))\n",
    "\n",
    "def draw_plot(dataset_name, values):\n",
    "\n",
    "    plt.figure(figsize = (10, 6))\n",
    "\n",
    "    for i, metric in enumerate(metrics):\n",
    "        plt.scatter(x_pos, [y_pos[i]]*len(methods), s = values[i]*3000, alpha = 0.6, label = metrics[i])\n",
    "\n",
    "    for i in range(len(metrics)):\n",
    "        for j in range(len(methods)):\n",
    "            plt.annotate(f\"{values[i, j]:.2f}\",\n",
    "                        (x_pos[j], y_pos[i]),\n",
    "                        ha = 'center', va = 'center',\n",
    "                        fontsize = 10\n",
    "                        )\n",
    "\n",
    "    plt.xticks(x_pos, methods)\n",
    "    plt.yticks(y_pos, metrics)\n",
    "\n",
    "    plt.title(dataset_name, pad = 20)\n",
    "    plt.xlabel(\"Retrieval Methods\")\n",
    "    plt.ylabel(\"Evaluation Metrics\")\n",
    "\n",
    "    plt.tight_layout()\n",
    "    plt.grid(True, linestyle = '--', alpha = 0.7)\n",
    "    plt.legend(bbox_to_anchor = (1.05, 1), loc = 'upper left')\n",
    "\n",
    "    plt.show()"
   ]
  },
  {
   "cell_type": "code",
   "execution_count": 43,
   "id": "65d4f8b5",
   "metadata": {},
   "outputs": [
    {
     "data": {
      "image/png": "[encoded data removed]",
      "text/plain": [
       "<Figure size 1000x600 with 1 Axes>"
      ]
     },
     "metadata": {},
     "output_type": "display_data"
    }
   ],
   "source": [
    "draw_plot(\"antique\", antique_values)"
   ]
  },
  {
   "cell_type": "code",
   "execution_count": 44,
   "id": "bbf36f68",
   "metadata": {},
   "outputs": [
    {
     "data": {
      "image/png": "[encoded data removed]",
      "text/plain": [
       "<Figure size 1000x600 with 1 Axes>"
      ]
     },
     "metadata": {},
     "output_type": "display_data"
    }
   ],
   "source": [
    "draw_plot(\"quora\", quora_values)"
   ]
  },
  {
   "cell_type": "code",
   "execution_count": null,
   "id": "9b63b9ea",
   "metadata": {},
   "outputs": [],
   "source": [
    "embedding_methods = [\"embedding without vector store\", \"embedding with vector store\"]\n",
    "embedding_metrics = [\"MRR\", \"MAP\", \"nDCG\"]\n",
    "x_pos = np.arange(len(embedding_methods))\n",
    "y_pos = np.arange(len(embedding_metrics))\n",
    "\n",
    "def draw_plot(dataset_name, values):\n",
    "\n",
    "    plt.figure(figsize = (10, 6))\n",
    "\n",
    "    for i, metric in enumerate(embedding_metrics):\n",
    "        plt.scatter(x_pos, [y_pos[i]]*len(embedding_methods), s = values[i]*3000, alpha = 0.6, label = embedding_metrics[i])\n",
    "\n",
    "    for i in range(len(embedding_metrics)):\n",
    "        for j in range(len(embedding_methods)):\n",
    "            plt.annotate(f\"{values[i, j]:.2f}\",\n",
    "                        (x_pos[j], y_pos[i]),\n",
    "                        ha = 'center', va = 'center',\n",
    "                        fontsize = 10\n",
    "                        )\n",
    "\n",
    "    plt.xticks(x_pos, embedding_methods)\n",
    "    plt.yticks(y_pos, embedding_metrics)\n",
    "\n",
    "    plt.title(dataset_name, pad = 20)\n",
    "    plt.xlabel(\"Embedding Retrieval Methods\")\n",
    "    plt.ylabel(\"Embedding Evaluation Metrics\")\n",
    "\n",
    "    plt.tight_layout()\n",
    "    plt.grid(True, linestyle = '--', alpha = 0.7)\n",
    "    plt.legend(bbox_to_anchor = (1.05, 1), loc = 'upper left')\n",
    "\n",
    "    plt.show()"
   ]
  },
  {
   "cell_type": "code",
   "execution_count": 56,
   "id": "15ca26c8",
   "metadata": {},
   "outputs": [
    {
     "data": {
      "image/png": "[encoded data removed]",
      "text/plain": [
       "<Figure size 1000x1000 with 1 Axes>"
      ]
     },
     "metadata": {},
     "output_type": "display_data"
    }
   ],
   "source": [
    "draw_plot(\"antique\", vector_store_antique_values)"
   ]
  },
  {
   "cell_type": "code",
   "execution_count": 54,
   "id": "c95b764f",
   "metadata": {},
   "outputs": [
    {
     "data": {
      "image/png": "[encoded data removed]",
      "text/plain": [
       "<Figure size 1000x600 with 1 Axes>"
      ]
     },
     "metadata": {},
     "output_type": "display_data"
    }
   ],
   "source": [
    "draw_plot(\"quora\", vector_store_quora_values)"
   ]
  },
  {
   "cell_type": "code",
   "execution_count": 64,
   "id": "c791e42d",
   "metadata": {},
   "outputs": [
    {
     "data": {
      "image/png": "[encoded data removed]",
      "text/plain": [
       "<Figure size 800x600 with 1 Axes>"
      ]
     },
     "metadata": {},
     "output_type": "display_data"
    }
   ],
   "source": [
    "datasets = ['antique', 'quora']\n",
    "methods = ['without vector store', 'with vector store']\n",
    "\n",
    "bar_width = 0.35\n",
    "x = np.arange(len(datasets))\n",
    "\n",
    "fig, ax = plt.subplots(figsize=(8, 6))\n",
    "\n",
    "# Bars for 'without vector store'\n",
    "bars1 = ax.bar(x - bar_width/2, [t[0] for t in embedding_evaluation_times], bar_width, label='without vector store', color='skyblue')\n",
    "# Bars for 'with vector store'\n",
    "bars2 = ax.bar(x + bar_width/2, [t[1] for t in embedding_evaluation_times], bar_width, label='with vector store', color='orange')\n",
    "\n",
    "# Annotate bars with time values\n",
    "for bars in [bars1, bars2]:\n",
    "    for bar in bars:\n",
    "        height = bar.get_height()\n",
    "        ax.annotate(f'{height:.2f}s',\n",
    "                    xy=(bar.get_x() + bar.get_width() / 2, height),\n",
    "                    xytext=(0, 3),  # 3 points vertical offset\n",
    "                    textcoords=\"offset points\",\n",
    "                    ha='center', va='bottom', fontsize=10)\n",
    "\n",
    "ax.set_xlabel('Dataset')\n",
    "ax.set_ylabel('Evaluation Time (seconds)')\n",
    "ax.set_title('Evaluation Time Comparison by Dataset and Embedding Method')\n",
    "ax.set_xticks(x)\n",
    "ax.set_xticklabels(datasets)\n",
    "ax.legend()\n",
    "ax.grid(axis='y', linestyle='--', alpha=0.7)\n",
    "\n",
    "plt.tight_layout()\n",
    "plt.show()\n"
   ]
  }
 ],
 "metadata": {
  "colab": {
   "provenance": []
  },
  "kernelspec": {
   "display_name": "Python 3",
   "language": "python",
   "name": "python3"
  },
  "language_info": {
   "codemirror_mode": {
    "name": "ipython",
    "version": 3
   },
   "file_extension": ".py",
   "mimetype": "text/x-python",
   "name": "python",
   "nbconvert_exporter": "python",
   "pygments_lexer": "ipython3",
   "version": "3.12.4"
  }
 },
 "nbformat": 4,
 "nbformat_minor": 5
}
