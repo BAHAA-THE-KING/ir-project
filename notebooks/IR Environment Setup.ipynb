{
 "cells": [
  {
   "cell_type": "markdown",
   "id": "3e6bc018",
   "metadata": {
    "id": "3e6bc018"
   },
   "source": [
    "## Libraries Installation"
   ]
  },
  {
   "cell_type": "markdown",
   "id": "b6b28b37",
   "metadata": {
    "id": "b6b28b37"
   },
   "source": [
    "### NLTK Installation"
   ]
  },
  {
   "cell_type": "code",
   "execution_count": null,
   "id": "748f5cba",
   "metadata": {
    "id": "748f5cba",
    "outputId": "af4a1421-49e7-478f-8fd7-106a07a61f48"
   },
   "outputs": [],
   "source": [
    "%pip install nltk"
   ]
  },
  {
   "cell_type": "code",
   "execution_count": null,
   "id": "c4fe9f56",
   "metadata": {
    "id": "c4fe9f56",
    "outputId": "ec1f4d82-e22b-4c04-8ed4-8e7d4382de39"
   },
   "outputs": [],
   "source": [
    "import nltk\n",
    "nltk.download()"
   ]
  },
  {
   "cell_type": "markdown",
   "id": "e72f7283",
   "metadata": {},
   "source": [
    "### ir_datasets Installation"
   ]
  },
  {
   "cell_type": "code",
   "execution_count": null,
   "id": "3ce88515",
   "metadata": {},
   "outputs": [],
   "source": [
    "%pip install ir_datasets"
   ]
  },
  {
   "cell_type": "markdown",
   "id": "b141435d",
   "metadata": {},
   "source": [
    "### PyQt6 Installation"
   ]
  },
  {
   "cell_type": "code",
   "execution_count": null,
   "id": "01a1f3e2",
   "metadata": {},
   "outputs": [],
   "source": [
    "%pip install PyQt6"
   ]
  },
  {
   "cell_type": "markdown",
   "id": "ee08b835",
   "metadata": {},
   "source": [
    "### rank_bm25 Installation"
   ]
  },
  {
   "cell_type": "code",
   "execution_count": null,
   "id": "1408527b",
   "metadata": {},
   "outputs": [],
   "source": [
    "%pip install rank_bm25"
   ]
  },
  {
   "cell_type": "markdown",
   "id": "9395e9c0",
   "metadata": {},
   "source": [
    "### joblib Installation"
   ]
  },
  {
   "cell_type": "code",
   "execution_count": null,
   "id": "ea6352f8",
   "metadata": {},
   "outputs": [],
   "source": [
    "%pip install joblib"
   ]
  },
  {
   "cell_type": "markdown",
   "id": "bf5ff51a",
   "metadata": {},
   "source": [
    "### dill Installation"
   ]
  },
  {
   "cell_type": "code",
   "execution_count": null,
   "id": "0ad1a7da",
   "metadata": {},
   "outputs": [],
   "source": [
    "%pip install dill"
   ]
  },
  {
   "cell_type": "markdown",
   "id": "32971561",
   "metadata": {},
   "source": [
    "## Apply ir_datasets fix for encoding"
   ]
  },
  {
   "cell_type": "code",
   "execution_count": null,
   "id": "bef88c1a",
   "metadata": {},
   "outputs": [],
   "source": [
    "%pip install scikit-learn"
   ]
  },
  {
   "cell_type": "code",
   "execution_count": null,
   "id": "d95df819",
   "metadata": {},
   "outputs": [],
   "source": [
    "import os\n",
    "\n",
    "# Replace the user's path with the correct path\n",
    "ir_datasets_path = r\"C:\\Users\\FSOS\\AppData\\Local\\Programs\\Python\\Python311\\Lib\\site-packages\\ir_datasets\\formats\\tsv.py\""
   ]
  },
  {
   "cell_type": "code",
   "execution_count": null,
   "id": "0c1d1fe4",
   "metadata": {},
   "outputs": [],
   "source": [
    "# Check if file exists\n",
    "if not os.path.exists(ir_datasets_path):\n",
    "    print(f\"Error: File not found at {ir_datasets_path}\")\n",
    "    exit()\n",
    "\n",
    "# Read the file content\n",
    "with open(ir_datasets_path, 'r', encoding='utf-8') as file:\n",
    "    lines = file.readlines()\n",
    "\n",
    "# Replace lines 25-28 with new code\n",
    "    new_lines = [\n",
    "        \"            if isinstance(self.dlc, list):\\n\",\n",
    "        \"                self.stream = io.TextIOWrapper(self.ctxt.enter_context(self.dlc[self.stream_idx].stream()), encoding='utf-8')\\n\",\n",
    "        \"            else:\\n\",\n",
    "        \"                self.stream = io.TextIOWrapper(self.ctxt.enter_context(self.dlc.stream()), encoding='utf-8')\\n\"\n",
    "    ]\n",
    "    \n",
    "    # Replace the lines (note: list indices are 0-based, so lines 25-28 are indices 24-27)\n",
    "    lines[24:28] = new_lines\n",
    "    \n",
    "    # Write back the modified content\n",
    "    with open(ir_datasets_path, 'w', encoding='utf-8') as file:\n",
    "        file.writelines(lines)\n",
    "    print(\"Successfully updated the file encoding settings.\")"
   ]
  },
  {
   "cell_type": "code",
   "execution_count": null,
   "id": "32707abc",
   "metadata": {},
   "outputs": [],
   "source": [
    "pip install matplotlib"
   ]
  }
 ],
 "metadata": {
  "colab": {
   "provenance": []
  },
  "kernelspec": {
   "display_name": "Python 3",
   "language": "python",
   "name": "python3"
  },
  "language_info": {
   "codemirror_mode": {
    "name": "ipython",
    "version": 3
   },
   "file_extension": ".py",
   "mimetype": "text/x-python",
   "name": "python",
   "nbconvert_exporter": "python",
   "pygments_lexer": "ipython3",
   "version": "3.11.9"
  }
 },
 "nbformat": 4,
 "nbformat_minor": 5
}
